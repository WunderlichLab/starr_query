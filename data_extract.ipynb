{
 "cells": [
  {
   "cell_type": "code",
   "metadata": {
    "ExecuteTime": {
     "end_time": "2025-09-24T15:22:08.884793Z",
     "start_time": "2025-09-24T15:22:06.499503Z"
    }
   },
   "source": [
    "import pandas as pd\n",
    "import re\n",
    "import numpy as np\n",
    "from gtfparse import read_gtf\n",
    "import polars as pl"
   ],
   "outputs": [],
   "execution_count": 1
  },
  {
   "metadata": {},
   "cell_type": "markdown",
   "source": "# Functions"
  },
  {
   "metadata": {
    "ExecuteTime": {
     "end_time": "2025-09-24T15:22:08.954946Z",
     "start_time": "2025-09-24T15:22:08.952028Z"
    }
   },
   "cell_type": "code",
   "source": [
    "def read_file_and_modify(csv_file, treatment = ''):\n",
    "    df = pd.read_csv(csv_file)\n",
    "    if treatment != '':\n",
    "        df['Treatment'] = treatment\n",
    "\n",
    "    df['Enhancer'] = df['Enhancer'].str.replace(r'(+)', '')\n",
    "    return df"
   ],
   "outputs": [],
   "execution_count": 2
  },
  {
   "metadata": {},
   "cell_type": "markdown",
   "source": "# EDA"
  },
  {
   "metadata": {
    "ExecuteTime": {
     "end_time": "2025-09-24T15:22:09.027279Z",
     "start_time": "2025-09-24T15:22:08.967966Z"
    }
   },
   "cell_type": "code",
   "source": [
    "# Read the files\n",
    "e20_df = read_file_and_modify('base_data/EnhancerGene20E_df_clean_09_09.csv', '20E')\n",
    "\n",
    "con_df = read_file_and_modify('base_data/EnhancerGeneCon_df_clean_09_09.csv','Control')\n",
    "\n",
    "imd_df = read_file_and_modify('base_data/EnhancerGeneHKSM_df_clean_09_09.csv', 'IMD')\n",
    "\n",
    "combined_df = pd.concat([e20_df, con_df, imd_df])\n",
    "\n",
    "all_df = read_file_and_modify('base_data/EG_all_clean_09_05.csv')"
   ],
   "outputs": [],
   "execution_count": 3
  },
  {
   "metadata": {
    "ExecuteTime": {
     "end_time": "2025-09-24T15:22:09.048447Z",
     "start_time": "2025-09-24T15:22:09.041438Z"
    }
   },
   "cell_type": "code",
   "source": [
    "print(combined_df.shape)\n",
    "combined_df.head()"
   ],
   "outputs": [
    {
     "name": "stdout",
     "output_type": "stream",
     "text": [
      "(39130, 10)\n"
     ]
    },
    {
     "data": {
      "text/plain": [
       "               Enhancer        Genes  Cells_20EvsCTRL.table.logFC  \\\n",
       "0  2R:16125955-16128021  FBgn0034075                    -0.487171   \n",
       "1  2R:16125955-16128021  FBgn0034076                     0.511375   \n",
       "2  2R:16125955-16128021  FBgn0010052                          NaN   \n",
       "3  2R:16125955-16128021  FBgn0050095                          NaN   \n",
       "4  2R:16125955-16128021  FBgn0001124                    -1.570842   \n",
       "\n",
       "   coSTARR LogFC 20EvsControl Immune Process Time_cluster Treatment  \\\n",
       "0                   -0.065139            NaN          NaN       20E   \n",
       "1                         NaN            NaN          NaN       20E   \n",
       "2                   -3.331694            NaN      late_C1       20E   \n",
       "3                         NaN            NaN          NaN       20E   \n",
       "4                   -0.816459            NaN      late_C1       20E   \n",
       "\n",
       "   Control_ave  2021 LogFC IMDvsCTRL  coSTARR LogFC HKSMvs20E  \n",
       "0          NaN                   NaN                      NaN  \n",
       "1          NaN                   NaN                      NaN  \n",
       "2          NaN                   NaN                      NaN  \n",
       "3          NaN                   NaN                      NaN  \n",
       "4          NaN                   NaN                      NaN  "
      ],
      "text/html": [
       "<div>\n",
       "<style scoped>\n",
       "    .dataframe tbody tr th:only-of-type {\n",
       "        vertical-align: middle;\n",
       "    }\n",
       "\n",
       "    .dataframe tbody tr th {\n",
       "        vertical-align: top;\n",
       "    }\n",
       "\n",
       "    .dataframe thead th {\n",
       "        text-align: right;\n",
       "    }\n",
       "</style>\n",
       "<table border=\"1\" class=\"dataframe\">\n",
       "  <thead>\n",
       "    <tr style=\"text-align: right;\">\n",
       "      <th></th>\n",
       "      <th>Enhancer</th>\n",
       "      <th>Genes</th>\n",
       "      <th>Cells_20EvsCTRL.table.logFC</th>\n",
       "      <th>coSTARR LogFC 20EvsControl</th>\n",
       "      <th>Immune Process</th>\n",
       "      <th>Time_cluster</th>\n",
       "      <th>Treatment</th>\n",
       "      <th>Control_ave</th>\n",
       "      <th>2021 LogFC IMDvsCTRL</th>\n",
       "      <th>coSTARR LogFC HKSMvs20E</th>\n",
       "    </tr>\n",
       "  </thead>\n",
       "  <tbody>\n",
       "    <tr>\n",
       "      <th>0</th>\n",
       "      <td>2R:16125955-16128021</td>\n",
       "      <td>FBgn0034075</td>\n",
       "      <td>-0.487171</td>\n",
       "      <td>-0.065139</td>\n",
       "      <td>NaN</td>\n",
       "      <td>NaN</td>\n",
       "      <td>20E</td>\n",
       "      <td>NaN</td>\n",
       "      <td>NaN</td>\n",
       "      <td>NaN</td>\n",
       "    </tr>\n",
       "    <tr>\n",
       "      <th>1</th>\n",
       "      <td>2R:16125955-16128021</td>\n",
       "      <td>FBgn0034076</td>\n",
       "      <td>0.511375</td>\n",
       "      <td>NaN</td>\n",
       "      <td>NaN</td>\n",
       "      <td>NaN</td>\n",
       "      <td>20E</td>\n",
       "      <td>NaN</td>\n",
       "      <td>NaN</td>\n",
       "      <td>NaN</td>\n",
       "    </tr>\n",
       "    <tr>\n",
       "      <th>2</th>\n",
       "      <td>2R:16125955-16128021</td>\n",
       "      <td>FBgn0010052</td>\n",
       "      <td>NaN</td>\n",
       "      <td>-3.331694</td>\n",
       "      <td>NaN</td>\n",
       "      <td>late_C1</td>\n",
       "      <td>20E</td>\n",
       "      <td>NaN</td>\n",
       "      <td>NaN</td>\n",
       "      <td>NaN</td>\n",
       "    </tr>\n",
       "    <tr>\n",
       "      <th>3</th>\n",
       "      <td>2R:16125955-16128021</td>\n",
       "      <td>FBgn0050095</td>\n",
       "      <td>NaN</td>\n",
       "      <td>NaN</td>\n",
       "      <td>NaN</td>\n",
       "      <td>NaN</td>\n",
       "      <td>20E</td>\n",
       "      <td>NaN</td>\n",
       "      <td>NaN</td>\n",
       "      <td>NaN</td>\n",
       "    </tr>\n",
       "    <tr>\n",
       "      <th>4</th>\n",
       "      <td>2R:16125955-16128021</td>\n",
       "      <td>FBgn0001124</td>\n",
       "      <td>-1.570842</td>\n",
       "      <td>-0.816459</td>\n",
       "      <td>NaN</td>\n",
       "      <td>late_C1</td>\n",
       "      <td>20E</td>\n",
       "      <td>NaN</td>\n",
       "      <td>NaN</td>\n",
       "      <td>NaN</td>\n",
       "    </tr>\n",
       "  </tbody>\n",
       "</table>\n",
       "</div>"
      ]
     },
     "execution_count": 4,
     "metadata": {},
     "output_type": "execute_result"
    }
   ],
   "execution_count": 4
  },
  {
   "metadata": {
    "ExecuteTime": {
     "end_time": "2025-09-24T15:22:09.098960Z",
     "start_time": "2025-09-24T15:22:09.091582Z"
    }
   },
   "cell_type": "code",
   "source": "all_df.head()",
   "outputs": [
    {
     "data": {
      "text/plain": [
       "               Enhancer                                              Genes  \\\n",
       "0    2R:1097242-1098153                                        FBgn0003256   \n",
       "1      2L:517706-518455                                        FBgn0003963   \n",
       "2      2L:521029-521849                                        FBgn0003963   \n",
       "3      2L:524444-525150                                        FBgn0003963   \n",
       "4  2L:19537144-19537644  FBgn0032798;FBgn0032799;FBgn0041180;FBgn003280...   \n",
       "\n",
       "                                2021 LogFC IMDvsCTRL  \\\n",
       "0                                        0.263686928   \n",
       "1                                        0.285124923   \n",
       "2                                        0.285124923   \n",
       "3                                        0.285124923   \n",
       "4  -0.8434705509999999;1.341826983;1.800378571;0....   \n",
       "\n",
       "                             coSTARR LogFC HKSMvs20E  \\\n",
       "0                                       -0.038253087   \n",
       "1                                       -0.387774183   \n",
       "2                                       -0.387774183   \n",
       "3                                       -0.387774183   \n",
       "4  0.083930202;0.141035456;0.085920669;-0.2594895...   \n",
       "\n",
       "                         Immune Process Time_cluster  new_act_score  Length  \\\n",
       "0                          Wound repair            0       2182.190     912   \n",
       "1                        Toll; Cellular            0        817.905     750   \n",
       "2                        Toll; Cellular            0        547.332     821   \n",
       "3                        Toll; Cellular            0       1383.430     707   \n",
       "4  Toll; Anti-viral;0;Humoral; Cellular   0;early_C2        905.856     501   \n",
       "\n",
       "           FlybaseID Lem_function                      Type_function  ...  \\\n",
       "0                              []                                  0  ...   \n",
       "1                 ['FBgn0003963']                      Hematopoeisis  ...   \n",
       "2                 ['FBgn0003963']                      Hematopoeisis  ...   \n",
       "3                 ['FBgn0003963']                      Hematopoeisis  ...   \n",
       "4  ['FBgn0003231', 'FBgn0041180']  Phagocytosis, Signaling/Antiviral  ...   \n",
       "\n",
       "  xrp1_3 TBS_10-3  Treatment  FB_Gene  Control_ave  \\\n",
       "0      1       29       HKSM      NaN          NaN   \n",
       "1      3       27       HKSM      NaN          NaN   \n",
       "2      4       16       HKSM      NaN          NaN   \n",
       "3      1       20       HKSM      NaN          NaN   \n",
       "4      1       10       HKSM      NaN          NaN   \n",
       "\n",
       "   Cells_20EvsCTRL.table.logFC  coSTARR LogFC 20EvsControl  HKSM_ATAC  \\\n",
       "0                          NaN                         NaN        yes   \n",
       "1                          NaN                         NaN        NaN   \n",
       "2                          NaN                         NaN        NaN   \n",
       "3                          NaN                         NaN        yes   \n",
       "4                          NaN                         NaN        NaN   \n",
       "\n",
       "   Con_ATAC  Accessibility  \n",
       "0       yes    Always open  \n",
       "1       NaN  Always closed  \n",
       "2       NaN  Always closed  \n",
       "3       yes    Always open  \n",
       "4       NaN  Always closed  \n",
       "\n",
       "[5 rows x 34 columns]"
      ],
      "text/html": [
       "<div>\n",
       "<style scoped>\n",
       "    .dataframe tbody tr th:only-of-type {\n",
       "        vertical-align: middle;\n",
       "    }\n",
       "\n",
       "    .dataframe tbody tr th {\n",
       "        vertical-align: top;\n",
       "    }\n",
       "\n",
       "    .dataframe thead th {\n",
       "        text-align: right;\n",
       "    }\n",
       "</style>\n",
       "<table border=\"1\" class=\"dataframe\">\n",
       "  <thead>\n",
       "    <tr style=\"text-align: right;\">\n",
       "      <th></th>\n",
       "      <th>Enhancer</th>\n",
       "      <th>Genes</th>\n",
       "      <th>2021 LogFC IMDvsCTRL</th>\n",
       "      <th>coSTARR LogFC HKSMvs20E</th>\n",
       "      <th>Immune Process</th>\n",
       "      <th>Time_cluster</th>\n",
       "      <th>new_act_score</th>\n",
       "      <th>Length</th>\n",
       "      <th>FlybaseID Lem_function</th>\n",
       "      <th>Type_function</th>\n",
       "      <th>...</th>\n",
       "      <th>xrp1_3</th>\n",
       "      <th>TBS_10-3</th>\n",
       "      <th>Treatment</th>\n",
       "      <th>FB_Gene</th>\n",
       "      <th>Control_ave</th>\n",
       "      <th>Cells_20EvsCTRL.table.logFC</th>\n",
       "      <th>coSTARR LogFC 20EvsControl</th>\n",
       "      <th>HKSM_ATAC</th>\n",
       "      <th>Con_ATAC</th>\n",
       "      <th>Accessibility</th>\n",
       "    </tr>\n",
       "  </thead>\n",
       "  <tbody>\n",
       "    <tr>\n",
       "      <th>0</th>\n",
       "      <td>2R:1097242-1098153</td>\n",
       "      <td>FBgn0003256</td>\n",
       "      <td>0.263686928</td>\n",
       "      <td>-0.038253087</td>\n",
       "      <td>Wound repair</td>\n",
       "      <td>0</td>\n",
       "      <td>2182.190</td>\n",
       "      <td>912</td>\n",
       "      <td>[]</td>\n",
       "      <td>0</td>\n",
       "      <td>...</td>\n",
       "      <td>1</td>\n",
       "      <td>29</td>\n",
       "      <td>HKSM</td>\n",
       "      <td>NaN</td>\n",
       "      <td>NaN</td>\n",
       "      <td>NaN</td>\n",
       "      <td>NaN</td>\n",
       "      <td>yes</td>\n",
       "      <td>yes</td>\n",
       "      <td>Always open</td>\n",
       "    </tr>\n",
       "    <tr>\n",
       "      <th>1</th>\n",
       "      <td>2L:517706-518455</td>\n",
       "      <td>FBgn0003963</td>\n",
       "      <td>0.285124923</td>\n",
       "      <td>-0.387774183</td>\n",
       "      <td>Toll; Cellular</td>\n",
       "      <td>0</td>\n",
       "      <td>817.905</td>\n",
       "      <td>750</td>\n",
       "      <td>['FBgn0003963']</td>\n",
       "      <td>Hematopoeisis</td>\n",
       "      <td>...</td>\n",
       "      <td>3</td>\n",
       "      <td>27</td>\n",
       "      <td>HKSM</td>\n",
       "      <td>NaN</td>\n",
       "      <td>NaN</td>\n",
       "      <td>NaN</td>\n",
       "      <td>NaN</td>\n",
       "      <td>NaN</td>\n",
       "      <td>NaN</td>\n",
       "      <td>Always closed</td>\n",
       "    </tr>\n",
       "    <tr>\n",
       "      <th>2</th>\n",
       "      <td>2L:521029-521849</td>\n",
       "      <td>FBgn0003963</td>\n",
       "      <td>0.285124923</td>\n",
       "      <td>-0.387774183</td>\n",
       "      <td>Toll; Cellular</td>\n",
       "      <td>0</td>\n",
       "      <td>547.332</td>\n",
       "      <td>821</td>\n",
       "      <td>['FBgn0003963']</td>\n",
       "      <td>Hematopoeisis</td>\n",
       "      <td>...</td>\n",
       "      <td>4</td>\n",
       "      <td>16</td>\n",
       "      <td>HKSM</td>\n",
       "      <td>NaN</td>\n",
       "      <td>NaN</td>\n",
       "      <td>NaN</td>\n",
       "      <td>NaN</td>\n",
       "      <td>NaN</td>\n",
       "      <td>NaN</td>\n",
       "      <td>Always closed</td>\n",
       "    </tr>\n",
       "    <tr>\n",
       "      <th>3</th>\n",
       "      <td>2L:524444-525150</td>\n",
       "      <td>FBgn0003963</td>\n",
       "      <td>0.285124923</td>\n",
       "      <td>-0.387774183</td>\n",
       "      <td>Toll; Cellular</td>\n",
       "      <td>0</td>\n",
       "      <td>1383.430</td>\n",
       "      <td>707</td>\n",
       "      <td>['FBgn0003963']</td>\n",
       "      <td>Hematopoeisis</td>\n",
       "      <td>...</td>\n",
       "      <td>1</td>\n",
       "      <td>20</td>\n",
       "      <td>HKSM</td>\n",
       "      <td>NaN</td>\n",
       "      <td>NaN</td>\n",
       "      <td>NaN</td>\n",
       "      <td>NaN</td>\n",
       "      <td>yes</td>\n",
       "      <td>yes</td>\n",
       "      <td>Always open</td>\n",
       "    </tr>\n",
       "    <tr>\n",
       "      <th>4</th>\n",
       "      <td>2L:19537144-19537644</td>\n",
       "      <td>FBgn0032798;FBgn0032799;FBgn0041180;FBgn003280...</td>\n",
       "      <td>-0.8434705509999999;1.341826983;1.800378571;0....</td>\n",
       "      <td>0.083930202;0.141035456;0.085920669;-0.2594895...</td>\n",
       "      <td>Toll; Anti-viral;0;Humoral; Cellular</td>\n",
       "      <td>0;early_C2</td>\n",
       "      <td>905.856</td>\n",
       "      <td>501</td>\n",
       "      <td>['FBgn0003231', 'FBgn0041180']</td>\n",
       "      <td>Phagocytosis, Signaling/Antiviral</td>\n",
       "      <td>...</td>\n",
       "      <td>1</td>\n",
       "      <td>10</td>\n",
       "      <td>HKSM</td>\n",
       "      <td>NaN</td>\n",
       "      <td>NaN</td>\n",
       "      <td>NaN</td>\n",
       "      <td>NaN</td>\n",
       "      <td>NaN</td>\n",
       "      <td>NaN</td>\n",
       "      <td>Always closed</td>\n",
       "    </tr>\n",
       "  </tbody>\n",
       "</table>\n",
       "<p>5 rows × 34 columns</p>\n",
       "</div>"
      ]
     },
     "execution_count": 5,
     "metadata": {},
     "output_type": "execute_result"
    }
   ],
   "execution_count": 5
  },
  {
   "metadata": {
    "ExecuteTime": {
     "end_time": "2025-09-24T15:22:09.150529Z",
     "start_time": "2025-09-24T15:22:09.144910Z"
    }
   },
   "cell_type": "code",
   "source": [
    "print('e20_df.shape',e20_df.shape, '\\ncon_df.shape', con_df.shape,'\\nimd_df.shape', imd_df.shape)\n",
    "print()\n",
    "print(\"Unique Enhancers in 20E, IMD and Control combined:\", len(combined_df['Enhancer'].unique()))\n",
    "print(\"Unique Enhancers on collapsed file:\", len(all_df['Enhancer'].unique()))\n"
   ],
   "outputs": [
    {
     "name": "stdout",
     "output_type": "stream",
     "text": [
      "e20_df.shape (14154, 7) \n",
      "con_df.shape (11272, 6) \n",
      "imd_df.shape (13704, 7)\n",
      "\n",
      "Unique Enhancers in 20E, IMD and Control combined: 8204\n",
      "Unique Enhancers on collapsed file: 8204\n"
     ]
    }
   ],
   "execution_count": 6
  },
  {
   "metadata": {},
   "cell_type": "markdown",
   "source": "# Enhancer Table"
  },
  {
   "metadata": {
    "ExecuteTime": {
     "end_time": "2025-09-24T15:22:09.237633Z",
     "start_time": "2025-09-24T15:22:09.186834Z"
    }
   },
   "cell_type": "code",
   "source": [
    "# Extract the 'Enhancer' column\n",
    "enhancer = combined_df['Enhancer']\n",
    "\n",
    "# Parse chromosome, start, and end from the Enhancer string\n",
    "combined_df['Chromosome'] = enhancer.apply(lambda x: x.split(':')[0])\n",
    "combined_df['Start'] = enhancer.apply(lambda x: int(re.search(r':(\\d+)-', x).group(1)))\n",
    "combined_df['End'] = enhancer.apply(lambda x: int(re.search(r'-(\\d+)', x).group(1)))\n",
    "combined_df['Length'] = abs(combined_df['End'] - combined_df['Start'])"
   ],
   "outputs": [],
   "execution_count": 7
  },
  {
   "metadata": {
    "ExecuteTime": {
     "end_time": "2025-09-24T15:22:09.438029Z",
     "start_time": "2025-09-24T15:22:09.258758Z"
    }
   },
   "cell_type": "code",
   "source": [
    "# Display the updated DataFrame and store it to csv\n",
    "combined_df.reset_index(drop = True, inplace = True)\n",
    "tf_col = ['crp_3', 'EcR_usp_3', 'Eip74EF_3', 'gcm_3', 'Hnf4_3',\n",
    "       'kay_Jra_3', 'Rel_3', 'slp2_fork_3', 'SREBP_3', 'srp_SANGER_3', 'Trl_3', 'XBP1_3', 'xrp1_3']\n",
    "all_df['TF_counts'] = all_df[tf_col].apply(lambda row: '; '.\n",
    "                                             join([f'{col}: {int(row[col])}' for col in tf_col if row[col] > 0]),\n",
    "                                             axis = 1)\n",
    "\n",
    "enhancer_df = pd.merge(combined_df[['Enhancer', 'Chromosome', 'Start', 'End', 'Length']],all_df[['Enhancer','TF_counts','TBS_10-3']]).drop_duplicates()\n",
    "enhancer_df.to_csv('processed_data/enhancer.csv', index = False)"
   ],
   "outputs": [],
   "execution_count": 8
  },
  {
   "metadata": {},
   "cell_type": "markdown",
   "source": "# Genes Table"
  },
  {
   "metadata": {
    "ExecuteTime": {
     "end_time": "2025-09-24T15:22:09.457383Z",
     "start_time": "2025-09-24T15:22:09.449896Z"
    }
   },
   "cell_type": "code",
   "source": [
    "# gene csv\n",
    "gene_df = combined_df[['Genes','Immune Process','Time_cluster']]\n",
    "gene_df.reset_index(drop = True, inplace = True)\n",
    "gene_df.rename(columns = {'Genes':'gene_id'},inplace = True)\n",
    "gene_df"
   ],
   "outputs": [
    {
     "name": "stderr",
     "output_type": "stream",
     "text": [
      "/var/folders/mh/p8rsw7z90bv6kv8r8qnf4tnr0000gn/T/ipykernel_33806/3327782363.py:4: SettingWithCopyWarning: \n",
      "A value is trying to be set on a copy of a slice from a DataFrame\n",
      "\n",
      "See the caveats in the documentation: https://pandas.pydata.org/pandas-docs/stable/user_guide/indexing.html#returning-a-view-versus-a-copy\n",
      "  gene_df.rename(columns = {'Genes':'gene_id'},inplace = True)\n"
     ]
    },
    {
     "data": {
      "text/plain": [
       "           gene_id Immune Process Time_cluster\n",
       "0      FBgn0034075            NaN          NaN\n",
       "1      FBgn0034076            NaN          NaN\n",
       "2      FBgn0010052            NaN      late_C1\n",
       "3      FBgn0050095            NaN          NaN\n",
       "4      FBgn0001124            NaN      late_C1\n",
       "...            ...            ...          ...\n",
       "39125  FBgn0267432            NaN          NaN\n",
       "39126  FBgn0001313            NaN          NaN\n",
       "39127          NaN            NaN          NaN\n",
       "39128          NaN            NaN          NaN\n",
       "39129          NaN            NaN          NaN\n",
       "\n",
       "[39130 rows x 3 columns]"
      ],
      "text/html": [
       "<div>\n",
       "<style scoped>\n",
       "    .dataframe tbody tr th:only-of-type {\n",
       "        vertical-align: middle;\n",
       "    }\n",
       "\n",
       "    .dataframe tbody tr th {\n",
       "        vertical-align: top;\n",
       "    }\n",
       "\n",
       "    .dataframe thead th {\n",
       "        text-align: right;\n",
       "    }\n",
       "</style>\n",
       "<table border=\"1\" class=\"dataframe\">\n",
       "  <thead>\n",
       "    <tr style=\"text-align: right;\">\n",
       "      <th></th>\n",
       "      <th>gene_id</th>\n",
       "      <th>Immune Process</th>\n",
       "      <th>Time_cluster</th>\n",
       "    </tr>\n",
       "  </thead>\n",
       "  <tbody>\n",
       "    <tr>\n",
       "      <th>0</th>\n",
       "      <td>FBgn0034075</td>\n",
       "      <td>NaN</td>\n",
       "      <td>NaN</td>\n",
       "    </tr>\n",
       "    <tr>\n",
       "      <th>1</th>\n",
       "      <td>FBgn0034076</td>\n",
       "      <td>NaN</td>\n",
       "      <td>NaN</td>\n",
       "    </tr>\n",
       "    <tr>\n",
       "      <th>2</th>\n",
       "      <td>FBgn0010052</td>\n",
       "      <td>NaN</td>\n",
       "      <td>late_C1</td>\n",
       "    </tr>\n",
       "    <tr>\n",
       "      <th>3</th>\n",
       "      <td>FBgn0050095</td>\n",
       "      <td>NaN</td>\n",
       "      <td>NaN</td>\n",
       "    </tr>\n",
       "    <tr>\n",
       "      <th>4</th>\n",
       "      <td>FBgn0001124</td>\n",
       "      <td>NaN</td>\n",
       "      <td>late_C1</td>\n",
       "    </tr>\n",
       "    <tr>\n",
       "      <th>...</th>\n",
       "      <td>...</td>\n",
       "      <td>...</td>\n",
       "      <td>...</td>\n",
       "    </tr>\n",
       "    <tr>\n",
       "      <th>39125</th>\n",
       "      <td>FBgn0267432</td>\n",
       "      <td>NaN</td>\n",
       "      <td>NaN</td>\n",
       "    </tr>\n",
       "    <tr>\n",
       "      <th>39126</th>\n",
       "      <td>FBgn0001313</td>\n",
       "      <td>NaN</td>\n",
       "      <td>NaN</td>\n",
       "    </tr>\n",
       "    <tr>\n",
       "      <th>39127</th>\n",
       "      <td>NaN</td>\n",
       "      <td>NaN</td>\n",
       "      <td>NaN</td>\n",
       "    </tr>\n",
       "    <tr>\n",
       "      <th>39128</th>\n",
       "      <td>NaN</td>\n",
       "      <td>NaN</td>\n",
       "      <td>NaN</td>\n",
       "    </tr>\n",
       "    <tr>\n",
       "      <th>39129</th>\n",
       "      <td>NaN</td>\n",
       "      <td>NaN</td>\n",
       "      <td>NaN</td>\n",
       "    </tr>\n",
       "  </tbody>\n",
       "</table>\n",
       "<p>39130 rows × 3 columns</p>\n",
       "</div>"
      ]
     },
     "execution_count": 9,
     "metadata": {},
     "output_type": "execute_result"
    }
   ],
   "execution_count": 9
  },
  {
   "metadata": {
    "ExecuteTime": {
     "end_time": "2025-09-24T15:22:09.503030Z",
     "start_time": "2025-09-24T15:22:09.494047Z"
    }
   },
   "cell_type": "code",
   "source": [
    "# Make a unique list of genes\n",
    "unique_genes = gene_df['gene_id'].dropna().unique()\n",
    "unique_genes = unique_genes.tolist()\n",
    "len(unique_genes)"
   ],
   "outputs": [
    {
     "data": {
      "text/plain": [
       "10411"
      ]
     },
     "execution_count": 10,
     "metadata": {},
     "output_type": "execute_result"
    }
   ],
   "execution_count": 10
  },
  {
   "metadata": {
    "ExecuteTime": {
     "end_time": "2025-09-24T15:22:13.847363Z",
     "start_time": "2025-09-24T15:22:09.553318Z"
    }
   },
   "cell_type": "code",
   "source": [
    "# Read gtf file\n",
    "gtf_file = read_gtf('base_data/Drosophila_melanogaster.BDGP6.54.115.gtf')\n",
    "print(gtf_file.shape)\n",
    "gtf_file.head()"
   ],
   "outputs": [
    {
     "name": "stderr",
     "output_type": "stream",
     "text": [
      "INFO:root:Extracted GTF attributes: ['gene_id', 'gene_name', 'gene_source', 'gene_biotype', 'transcript_id', 'transcript_source', 'transcript_biotype', 'tag', 'exon_number', 'exon_id', 'transcript_name', 'protein_id']\n"
     ]
    },
    {
     "name": "stdout",
     "output_type": "stream",
     "text": [
      "(567804, 20)\n"
     ]
    },
    {
     "data": {
      "text/plain": [
       "shape: (5, 20)\n",
       "┌─────────┬─────────┬────────────┬──────────┬───┬────────────┬────────────┬────────────┬───────────┐\n",
       "│ seqname ┆ source  ┆ feature    ┆ start    ┆ … ┆ exon_numbe ┆ exon_id    ┆ transcript ┆ protein_i │\n",
       "│ ---     ┆ ---     ┆ ---        ┆ ---      ┆   ┆ r          ┆ ---        ┆ _name      ┆ d         │\n",
       "│ cat     ┆ cat     ┆ cat        ┆ i64      ┆   ┆ ---        ┆ str        ┆ ---        ┆ ---       │\n",
       "│         ┆         ┆            ┆          ┆   ┆ str        ┆            ┆ str        ┆ str       │\n",
       "╞═════════╪═════════╪════════════╪══════════╪═══╪════════════╪════════════╪════════════╪═══════════╡\n",
       "│ 3R      ┆ FlyBase ┆ gene       ┆ 10964778 ┆ … ┆            ┆            ┆            ┆           │\n",
       "│ 3R      ┆ FlyBase ┆ transcript ┆ 10964778 ┆ … ┆            ┆            ┆            ┆           │\n",
       "│ 3R      ┆ FlyBase ┆ exon       ┆ 10964778 ┆ … ┆ 1          ┆ FBti006091 ┆            ┆           │\n",
       "│         ┆         ┆            ┆          ┆   ┆            ┆ 1-RA-E1    ┆            ┆           │\n",
       "│ 3R      ┆ FlyBase ┆ gene       ┆ 13944654 ┆ … ┆            ┆            ┆            ┆           │\n",
       "│ 3R      ┆ FlyBase ┆ transcript ┆ 13944654 ┆ … ┆            ┆            ┆ Art6-RA    ┆           │\n",
       "└─────────┴─────────┴────────────┴──────────┴───┴────────────┴────────────┴────────────┴───────────┘"
      ],
      "text/html": [
       "<div><style>\n",
       ".dataframe > thead > tr,\n",
       ".dataframe > tbody > tr {\n",
       "  text-align: right;\n",
       "  white-space: pre-wrap;\n",
       "}\n",
       "</style>\n",
       "<small>shape: (5, 20)</small><table border=\"1\" class=\"dataframe\"><thead><tr><th>seqname</th><th>source</th><th>feature</th><th>start</th><th>end</th><th>score</th><th>strand</th><th>frame</th><th>gene_id</th><th>gene_name</th><th>gene_source</th><th>gene_biotype</th><th>transcript_id</th><th>transcript_source</th><th>transcript_biotype</th><th>tag</th><th>exon_number</th><th>exon_id</th><th>transcript_name</th><th>protein_id</th></tr><tr><td>cat</td><td>cat</td><td>cat</td><td>i64</td><td>i64</td><td>f32</td><td>cat</td><td>i64</td><td>str</td><td>str</td><td>str</td><td>str</td><td>str</td><td>str</td><td>str</td><td>str</td><td>str</td><td>str</td><td>str</td><td>str</td></tr></thead><tbody><tr><td>&quot;3R&quot;</td><td>&quot;FlyBase&quot;</td><td>&quot;gene&quot;</td><td>10964778</td><td>10964818</td><td>null</td><td>&quot;+&quot;</td><td>0</td><td>&quot;FBti0060911&quot;</td><td>&quot;transib2{}2850&quot;</td><td>&quot;FlyBase&quot;</td><td>&quot;transposable_element&quot;</td><td>&quot;&quot;</td><td>&quot;&quot;</td><td>&quot;&quot;</td><td>&quot;&quot;</td><td>&quot;&quot;</td><td>&quot;&quot;</td><td>&quot;&quot;</td><td>&quot;&quot;</td></tr><tr><td>&quot;3R&quot;</td><td>&quot;FlyBase&quot;</td><td>&quot;transcript&quot;</td><td>10964778</td><td>10964818</td><td>null</td><td>&quot;+&quot;</td><td>0</td><td>&quot;FBti0060911&quot;</td><td>&quot;transib2{}2850&quot;</td><td>&quot;FlyBase&quot;</td><td>&quot;transposable_element&quot;</td><td>&quot;FBti0060911-RA&quot;</td><td>&quot;FlyBase&quot;</td><td>&quot;transposable_element&quot;</td><td>&quot;Ensembl_canonical&quot;</td><td>&quot;&quot;</td><td>&quot;&quot;</td><td>&quot;&quot;</td><td>&quot;&quot;</td></tr><tr><td>&quot;3R&quot;</td><td>&quot;FlyBase&quot;</td><td>&quot;exon&quot;</td><td>10964778</td><td>10964818</td><td>null</td><td>&quot;+&quot;</td><td>0</td><td>&quot;FBti0060911&quot;</td><td>&quot;transib2{}2850&quot;</td><td>&quot;FlyBase&quot;</td><td>&quot;transposable_element&quot;</td><td>&quot;FBti0060911-RA&quot;</td><td>&quot;FlyBase&quot;</td><td>&quot;transposable_element&quot;</td><td>&quot;Ensembl_canonical&quot;</td><td>&quot;1&quot;</td><td>&quot;FBti0060911-RA-E1&quot;</td><td>&quot;&quot;</td><td>&quot;&quot;</td></tr><tr><td>&quot;3R&quot;</td><td>&quot;FlyBase&quot;</td><td>&quot;gene&quot;</td><td>13944654</td><td>13945812</td><td>null</td><td>&quot;-&quot;</td><td>0</td><td>&quot;FBgn0038189&quot;</td><td>&quot;Art6&quot;</td><td>&quot;FlyBase&quot;</td><td>&quot;protein_coding&quot;</td><td>&quot;&quot;</td><td>&quot;&quot;</td><td>&quot;&quot;</td><td>&quot;&quot;</td><td>&quot;&quot;</td><td>&quot;&quot;</td><td>&quot;&quot;</td><td>&quot;&quot;</td></tr><tr><td>&quot;3R&quot;</td><td>&quot;FlyBase&quot;</td><td>&quot;transcript&quot;</td><td>13944654</td><td>13945812</td><td>null</td><td>&quot;-&quot;</td><td>0</td><td>&quot;FBgn0038189&quot;</td><td>&quot;Art6&quot;</td><td>&quot;FlyBase&quot;</td><td>&quot;protein_coding&quot;</td><td>&quot;FBtr0082878&quot;</td><td>&quot;FlyBase&quot;</td><td>&quot;protein_coding&quot;</td><td>&quot;Ensembl_canonical&quot;</td><td>&quot;&quot;</td><td>&quot;&quot;</td><td>&quot;Art6-RA&quot;</td><td>&quot;&quot;</td></tr></tbody></table></div>"
      ]
     },
     "execution_count": 11,
     "metadata": {},
     "output_type": "execute_result"
    }
   ],
   "execution_count": 11
  },
  {
   "metadata": {
    "ExecuteTime": {
     "end_time": "2025-09-24T15:22:13.905140Z",
     "start_time": "2025-09-24T15:22:13.896036Z"
    }
   },
   "cell_type": "code",
   "source": [
    "gtf_genes = gtf_file.filter(pl.col(\"feature\") == \"gene\")\n",
    "gtf_genes.head(n = 10)"
   ],
   "outputs": [
    {
     "data": {
      "text/plain": [
       "shape: (10, 20)\n",
       "┌─────────┬─────────┬─────────┬──────────┬───┬─────────────┬─────────┬────────────────┬────────────┐\n",
       "│ seqname ┆ source  ┆ feature ┆ start    ┆ … ┆ exon_number ┆ exon_id ┆ transcript_nam ┆ protein_id │\n",
       "│ ---     ┆ ---     ┆ ---     ┆ ---      ┆   ┆ ---         ┆ ---     ┆ e              ┆ ---        │\n",
       "│ cat     ┆ cat     ┆ cat     ┆ i64      ┆   ┆ str         ┆ str     ┆ ---            ┆ str        │\n",
       "│         ┆         ┆         ┆          ┆   ┆             ┆         ┆ str            ┆            │\n",
       "╞═════════╪═════════╪═════════╪══════════╪═══╪═════════════╪═════════╪════════════════╪════════════╡\n",
       "│ 3R      ┆ FlyBase ┆ gene    ┆ 10964778 ┆ … ┆             ┆         ┆                ┆            │\n",
       "│ 3R      ┆ FlyBase ┆ gene    ┆ 13944654 ┆ … ┆             ┆         ┆                ┆            │\n",
       "│ 3R      ┆ FlyBase ┆ gene    ┆ 8359958  ┆ … ┆             ┆         ┆                ┆            │\n",
       "│ 3R      ┆ FlyBase ┆ gene    ┆ 18330932 ┆ … ┆             ┆         ┆                ┆            │\n",
       "│ 3R      ┆ FlyBase ┆ gene    ┆ 17703695 ┆ … ┆             ┆         ┆                ┆            │\n",
       "│ 3R      ┆ FlyBase ┆ gene    ┆ 5862865  ┆ … ┆             ┆         ┆                ┆            │\n",
       "│ 3R      ┆ FlyBase ┆ gene    ┆ 12452464 ┆ … ┆             ┆         ┆                ┆            │\n",
       "│ 3R      ┆ FlyBase ┆ gene    ┆ 9483378  ┆ … ┆             ┆         ┆                ┆            │\n",
       "│ 3R      ┆ FlyBase ┆ gene    ┆ 4639789  ┆ … ┆             ┆         ┆                ┆            │\n",
       "│ 3R      ┆ FlyBase ┆ gene    ┆ 4605495  ┆ … ┆             ┆         ┆                ┆            │\n",
       "└─────────┴─────────┴─────────┴──────────┴───┴─────────────┴─────────┴────────────────┴────────────┘"
      ],
      "text/html": [
       "<div><style>\n",
       ".dataframe > thead > tr,\n",
       ".dataframe > tbody > tr {\n",
       "  text-align: right;\n",
       "  white-space: pre-wrap;\n",
       "}\n",
       "</style>\n",
       "<small>shape: (10, 20)</small><table border=\"1\" class=\"dataframe\"><thead><tr><th>seqname</th><th>source</th><th>feature</th><th>start</th><th>end</th><th>score</th><th>strand</th><th>frame</th><th>gene_id</th><th>gene_name</th><th>gene_source</th><th>gene_biotype</th><th>transcript_id</th><th>transcript_source</th><th>transcript_biotype</th><th>tag</th><th>exon_number</th><th>exon_id</th><th>transcript_name</th><th>protein_id</th></tr><tr><td>cat</td><td>cat</td><td>cat</td><td>i64</td><td>i64</td><td>f32</td><td>cat</td><td>i64</td><td>str</td><td>str</td><td>str</td><td>str</td><td>str</td><td>str</td><td>str</td><td>str</td><td>str</td><td>str</td><td>str</td><td>str</td></tr></thead><tbody><tr><td>&quot;3R&quot;</td><td>&quot;FlyBase&quot;</td><td>&quot;gene&quot;</td><td>10964778</td><td>10964818</td><td>null</td><td>&quot;+&quot;</td><td>0</td><td>&quot;FBti0060911&quot;</td><td>&quot;transib2{}2850&quot;</td><td>&quot;FlyBase&quot;</td><td>&quot;transposable_element&quot;</td><td>&quot;&quot;</td><td>&quot;&quot;</td><td>&quot;&quot;</td><td>&quot;&quot;</td><td>&quot;&quot;</td><td>&quot;&quot;</td><td>&quot;&quot;</td><td>&quot;&quot;</td></tr><tr><td>&quot;3R&quot;</td><td>&quot;FlyBase&quot;</td><td>&quot;gene&quot;</td><td>13944654</td><td>13945812</td><td>null</td><td>&quot;-&quot;</td><td>0</td><td>&quot;FBgn0038189&quot;</td><td>&quot;Art6&quot;</td><td>&quot;FlyBase&quot;</td><td>&quot;protein_coding&quot;</td><td>&quot;&quot;</td><td>&quot;&quot;</td><td>&quot;&quot;</td><td>&quot;&quot;</td><td>&quot;&quot;</td><td>&quot;&quot;</td><td>&quot;&quot;</td><td>&quot;&quot;</td></tr><tr><td>&quot;3R&quot;</td><td>&quot;FlyBase&quot;</td><td>&quot;gene&quot;</td><td>8359958</td><td>8362554</td><td>null</td><td>&quot;-&quot;</td><td>0</td><td>&quot;FBgn0037583&quot;</td><td>&quot;Veneno&quot;</td><td>&quot;FlyBase&quot;</td><td>&quot;protein_coding&quot;</td><td>&quot;&quot;</td><td>&quot;&quot;</td><td>&quot;&quot;</td><td>&quot;&quot;</td><td>&quot;&quot;</td><td>&quot;&quot;</td><td>&quot;&quot;</td><td>&quot;&quot;</td></tr><tr><td>&quot;3R&quot;</td><td>&quot;FlyBase&quot;</td><td>&quot;gene&quot;</td><td>18330932</td><td>18360728</td><td>null</td><td>&quot;-&quot;</td><td>0</td><td>&quot;FBgn0038606&quot;</td><td>&quot;CG15803&quot;</td><td>&quot;FlyBase&quot;</td><td>&quot;protein_coding&quot;</td><td>&quot;&quot;</td><td>&quot;&quot;</td><td>&quot;&quot;</td><td>&quot;&quot;</td><td>&quot;&quot;</td><td>&quot;&quot;</td><td>&quot;&quot;</td><td>&quot;&quot;</td></tr><tr><td>&quot;3R&quot;</td><td>&quot;FlyBase&quot;</td><td>&quot;gene&quot;</td><td>17703695</td><td>17705581</td><td>null</td><td>&quot;+&quot;</td><td>0</td><td>&quot;FBgn0267702&quot;</td><td>&quot;lncRNA:CR46035&quot;</td><td>&quot;FlyBase&quot;</td><td>&quot;ncRNA&quot;</td><td>&quot;&quot;</td><td>&quot;&quot;</td><td>&quot;&quot;</td><td>&quot;&quot;</td><td>&quot;&quot;</td><td>&quot;&quot;</td><td>&quot;&quot;</td><td>&quot;&quot;</td></tr><tr><td>&quot;3R&quot;</td><td>&quot;FlyBase&quot;</td><td>&quot;gene&quot;</td><td>5862865</td><td>5959555</td><td>null</td><td>&quot;-&quot;</td><td>0</td><td>&quot;FBgn0083949&quot;</td><td>&quot;side-III&quot;</td><td>&quot;FlyBase&quot;</td><td>&quot;protein_coding&quot;</td><td>&quot;&quot;</td><td>&quot;&quot;</td><td>&quot;&quot;</td><td>&quot;&quot;</td><td>&quot;&quot;</td><td>&quot;&quot;</td><td>&quot;&quot;</td><td>&quot;&quot;</td></tr><tr><td>&quot;3R&quot;</td><td>&quot;FlyBase&quot;</td><td>&quot;gene&quot;</td><td>12452464</td><td>12453196</td><td>null</td><td>&quot;+&quot;</td><td>0</td><td>&quot;FBgn0038054&quot;</td><td>&quot;CG5509&quot;</td><td>&quot;FlyBase&quot;</td><td>&quot;protein_coding&quot;</td><td>&quot;&quot;</td><td>&quot;&quot;</td><td>&quot;&quot;</td><td>&quot;&quot;</td><td>&quot;&quot;</td><td>&quot;&quot;</td><td>&quot;&quot;</td><td>&quot;&quot;</td></tr><tr><td>&quot;3R&quot;</td><td>&quot;FlyBase&quot;</td><td>&quot;gene&quot;</td><td>9483378</td><td>9484078</td><td>null</td><td>&quot;-&quot;</td><td>0</td><td>&quot;FBgn0266730&quot;</td><td>&quot;lncRNA:CR45203&quot;</td><td>&quot;FlyBase&quot;</td><td>&quot;ncRNA&quot;</td><td>&quot;&quot;</td><td>&quot;&quot;</td><td>&quot;&quot;</td><td>&quot;&quot;</td><td>&quot;&quot;</td><td>&quot;&quot;</td><td>&quot;&quot;</td><td>&quot;&quot;</td></tr><tr><td>&quot;3R&quot;</td><td>&quot;FlyBase&quot;</td><td>&quot;gene&quot;</td><td>4639789</td><td>4640004</td><td>null</td><td>&quot;-&quot;</td><td>0</td><td>&quot;FBgn0286036&quot;</td><td>&quot;sisRNA:CR46358&quot;</td><td>&quot;FlyBase&quot;</td><td>&quot;ncRNA&quot;</td><td>&quot;&quot;</td><td>&quot;&quot;</td><td>&quot;&quot;</td><td>&quot;&quot;</td><td>&quot;&quot;</td><td>&quot;&quot;</td><td>&quot;&quot;</td><td>&quot;&quot;</td></tr><tr><td>&quot;3R&quot;</td><td>&quot;FlyBase&quot;</td><td>&quot;gene&quot;</td><td>4605495</td><td>4606495</td><td>null</td><td>&quot;-&quot;</td><td>0</td><td>&quot;FBti0062759&quot;</td><td>&quot;INE-1{}4698&quot;</td><td>&quot;FlyBase&quot;</td><td>&quot;transposable_element&quot;</td><td>&quot;&quot;</td><td>&quot;&quot;</td><td>&quot;&quot;</td><td>&quot;&quot;</td><td>&quot;&quot;</td><td>&quot;&quot;</td><td>&quot;&quot;</td><td>&quot;&quot;</td></tr></tbody></table></div>"
      ]
     },
     "execution_count": 12,
     "metadata": {},
     "output_type": "execute_result"
    }
   ],
   "execution_count": 12
  },
  {
   "metadata": {
    "ExecuteTime": {
     "end_time": "2025-09-24T15:22:13.954013Z",
     "start_time": "2025-09-24T15:22:13.948177Z"
    }
   },
   "cell_type": "code",
   "source": "filtered_genes = gtf_genes.filter(pl.col(\"gene_id\").is_in(unique_genes))",
   "outputs": [],
   "execution_count": 13
  },
  {
   "metadata": {
    "ExecuteTime": {
     "end_time": "2025-09-24T15:22:14.012525Z",
     "start_time": "2025-09-24T15:22:13.989270Z"
    }
   },
   "cell_type": "code",
   "source": [
    "result_df = pd.merge(\n",
    "    filtered_genes[['gene_id','seqname','start','end','gene_name']].to_pandas(),\n",
    "    gene_df[['gene_id','Immune Process', 'Time_cluster']],\n",
    "    on='gene_id',\n",
    "    how='left')\n",
    "\n",
    "result_df.columns = ['GeneID','Chromosome', 'Start', 'End', 'GeneName','Immune Process','Time_cluster']\n",
    "result_df['Length'] = abs(result_df['End'] - result_df['Start'])\n",
    "\n",
    "result_df.drop_duplicates(ignore_index = True,inplace = True)\n",
    "result_df.reset_index(drop=True, inplace=True)\n",
    "result_df\n"
   ],
   "outputs": [
    {
     "data": {
      "text/plain": [
       "            GeneID Chromosome     Start       End        GeneName  \\\n",
       "0      FBgn0038189         3R  13944654  13945812            Art6   \n",
       "1      FBgn0037583         3R   8359958   8362554          Veneno   \n",
       "2      FBgn0267702         3R  17703695  17705581  lncRNA:CR46035   \n",
       "3      FBgn0083949         3R   5862865   5959555        side-III   \n",
       "4      FBgn0038054         3R  12452464  12453196          CG5509   \n",
       "...            ...        ...       ...       ...             ...   \n",
       "10278  FBgn0267880          Y   3113685   3114094         CR46168   \n",
       "10279  FBgn0039925          4   1147466   1169239           Kif3C   \n",
       "10280  FBgn0039924          4   1192419   1196848           PIP4K   \n",
       "10281  FBgn0250819          4   1185768   1192985         CG33521   \n",
       "10282  FBgn0002521          4   1172469   1181628             pho   \n",
       "\n",
       "      Immune Process Time_cluster  Length  \n",
       "0                NaN          NaN    1158  \n",
       "1                NaN          NaN    2596  \n",
       "2                NaN          NaN    1886  \n",
       "3                NaN          NaN   96690  \n",
       "4                NaN          NaN     732  \n",
       "...              ...          ...     ...  \n",
       "10278            NaN          NaN     409  \n",
       "10279            NaN          NaN   21773  \n",
       "10280            NaN          NaN    4429  \n",
       "10281            NaN          NaN    7217  \n",
       "10282            NaN          NaN    9159  \n",
       "\n",
       "[10283 rows x 8 columns]"
      ],
      "text/html": [
       "<div>\n",
       "<style scoped>\n",
       "    .dataframe tbody tr th:only-of-type {\n",
       "        vertical-align: middle;\n",
       "    }\n",
       "\n",
       "    .dataframe tbody tr th {\n",
       "        vertical-align: top;\n",
       "    }\n",
       "\n",
       "    .dataframe thead th {\n",
       "        text-align: right;\n",
       "    }\n",
       "</style>\n",
       "<table border=\"1\" class=\"dataframe\">\n",
       "  <thead>\n",
       "    <tr style=\"text-align: right;\">\n",
       "      <th></th>\n",
       "      <th>GeneID</th>\n",
       "      <th>Chromosome</th>\n",
       "      <th>Start</th>\n",
       "      <th>End</th>\n",
       "      <th>GeneName</th>\n",
       "      <th>Immune Process</th>\n",
       "      <th>Time_cluster</th>\n",
       "      <th>Length</th>\n",
       "    </tr>\n",
       "  </thead>\n",
       "  <tbody>\n",
       "    <tr>\n",
       "      <th>0</th>\n",
       "      <td>FBgn0038189</td>\n",
       "      <td>3R</td>\n",
       "      <td>13944654</td>\n",
       "      <td>13945812</td>\n",
       "      <td>Art6</td>\n",
       "      <td>NaN</td>\n",
       "      <td>NaN</td>\n",
       "      <td>1158</td>\n",
       "    </tr>\n",
       "    <tr>\n",
       "      <th>1</th>\n",
       "      <td>FBgn0037583</td>\n",
       "      <td>3R</td>\n",
       "      <td>8359958</td>\n",
       "      <td>8362554</td>\n",
       "      <td>Veneno</td>\n",
       "      <td>NaN</td>\n",
       "      <td>NaN</td>\n",
       "      <td>2596</td>\n",
       "    </tr>\n",
       "    <tr>\n",
       "      <th>2</th>\n",
       "      <td>FBgn0267702</td>\n",
       "      <td>3R</td>\n",
       "      <td>17703695</td>\n",
       "      <td>17705581</td>\n",
       "      <td>lncRNA:CR46035</td>\n",
       "      <td>NaN</td>\n",
       "      <td>NaN</td>\n",
       "      <td>1886</td>\n",
       "    </tr>\n",
       "    <tr>\n",
       "      <th>3</th>\n",
       "      <td>FBgn0083949</td>\n",
       "      <td>3R</td>\n",
       "      <td>5862865</td>\n",
       "      <td>5959555</td>\n",
       "      <td>side-III</td>\n",
       "      <td>NaN</td>\n",
       "      <td>NaN</td>\n",
       "      <td>96690</td>\n",
       "    </tr>\n",
       "    <tr>\n",
       "      <th>4</th>\n",
       "      <td>FBgn0038054</td>\n",
       "      <td>3R</td>\n",
       "      <td>12452464</td>\n",
       "      <td>12453196</td>\n",
       "      <td>CG5509</td>\n",
       "      <td>NaN</td>\n",
       "      <td>NaN</td>\n",
       "      <td>732</td>\n",
       "    </tr>\n",
       "    <tr>\n",
       "      <th>...</th>\n",
       "      <td>...</td>\n",
       "      <td>...</td>\n",
       "      <td>...</td>\n",
       "      <td>...</td>\n",
       "      <td>...</td>\n",
       "      <td>...</td>\n",
       "      <td>...</td>\n",
       "      <td>...</td>\n",
       "    </tr>\n",
       "    <tr>\n",
       "      <th>10278</th>\n",
       "      <td>FBgn0267880</td>\n",
       "      <td>Y</td>\n",
       "      <td>3113685</td>\n",
       "      <td>3114094</td>\n",
       "      <td>CR46168</td>\n",
       "      <td>NaN</td>\n",
       "      <td>NaN</td>\n",
       "      <td>409</td>\n",
       "    </tr>\n",
       "    <tr>\n",
       "      <th>10279</th>\n",
       "      <td>FBgn0039925</td>\n",
       "      <td>4</td>\n",
       "      <td>1147466</td>\n",
       "      <td>1169239</td>\n",
       "      <td>Kif3C</td>\n",
       "      <td>NaN</td>\n",
       "      <td>NaN</td>\n",
       "      <td>21773</td>\n",
       "    </tr>\n",
       "    <tr>\n",
       "      <th>10280</th>\n",
       "      <td>FBgn0039924</td>\n",
       "      <td>4</td>\n",
       "      <td>1192419</td>\n",
       "      <td>1196848</td>\n",
       "      <td>PIP4K</td>\n",
       "      <td>NaN</td>\n",
       "      <td>NaN</td>\n",
       "      <td>4429</td>\n",
       "    </tr>\n",
       "    <tr>\n",
       "      <th>10281</th>\n",
       "      <td>FBgn0250819</td>\n",
       "      <td>4</td>\n",
       "      <td>1185768</td>\n",
       "      <td>1192985</td>\n",
       "      <td>CG33521</td>\n",
       "      <td>NaN</td>\n",
       "      <td>NaN</td>\n",
       "      <td>7217</td>\n",
       "    </tr>\n",
       "    <tr>\n",
       "      <th>10282</th>\n",
       "      <td>FBgn0002521</td>\n",
       "      <td>4</td>\n",
       "      <td>1172469</td>\n",
       "      <td>1181628</td>\n",
       "      <td>pho</td>\n",
       "      <td>NaN</td>\n",
       "      <td>NaN</td>\n",
       "      <td>9159</td>\n",
       "    </tr>\n",
       "  </tbody>\n",
       "</table>\n",
       "<p>10283 rows × 8 columns</p>\n",
       "</div>"
      ]
     },
     "execution_count": 14,
     "metadata": {},
     "output_type": "execute_result"
    }
   ],
   "execution_count": 14
  },
  {
   "metadata": {
    "ExecuteTime": {
     "end_time": "2025-09-24T15:22:14.084431Z",
     "start_time": "2025-09-24T15:22:14.078941Z"
    }
   },
   "cell_type": "code",
   "source": [
    "# Convert unique genes list to a set\n",
    "unique_genes_set = set(unique_genes)\n",
    "\n",
    "# Convert filtered gene_ids (Polars) to a set\n",
    "filtered_gene_ids_set = set(filtered_genes[\"gene_id\"].to_list())\n",
    "\n",
    "# Find unmapped genes\n",
    "unmapped_genes = unique_genes_set - filtered_gene_ids_set\n",
    "\n",
    "print(f\"Number of unmapped genes: {len(unmapped_genes)}\")\n",
    "unmapped_genes"
   ],
   "outputs": [
    {
     "name": "stdout",
     "output_type": "stream",
     "text": [
      "Number of unmapped genes: 129\n"
     ]
    },
    {
     "data": {
      "text/plain": [
       "{'FBgn0000054',\n",
       " 'FBgn0000409',\n",
       " 'FBgn0000497',\n",
       " 'FBgn0000556',\n",
       " 'FBgn0001974',\n",
       " 'FBgn0001981',\n",
       " 'FBgn0002607',\n",
       " 'FBgn0003328',\n",
       " 'FBgn0003732',\n",
       " 'FBgn0003887',\n",
       " 'FBgn0003888',\n",
       " 'FBgn0003926',\n",
       " 'FBgn0004009',\n",
       " 'FBgn0004364',\n",
       " 'FBgn0005592',\n",
       " 'FBgn0010575',\n",
       " 'FBgn0011241',\n",
       " 'FBgn0011655',\n",
       " 'FBgn0014002',\n",
       " 'FBgn0015393',\n",
       " 'FBgn0016700',\n",
       " 'FBgn0019643',\n",
       " 'FBgn0019886',\n",
       " 'FBgn0019947',\n",
       " 'FBgn0021818',\n",
       " 'FBgn0022772',\n",
       " 'FBgn0024332',\n",
       " 'FBgn0025286',\n",
       " 'FBgn0025683',\n",
       " 'FBgn0025687',\n",
       " 'FBgn0027585',\n",
       " 'FBgn0028336',\n",
       " 'FBgn0028519',\n",
       " 'FBgn0028665',\n",
       " 'FBgn0029082',\n",
       " 'FBgn0029173',\n",
       " 'FBgn0029656',\n",
       " 'FBgn0029707',\n",
       " 'FBgn0029899',\n",
       " 'FBgn0030170',\n",
       " 'FBgn0030294',\n",
       " 'FBgn0031821',\n",
       " 'FBgn0031842',\n",
       " 'FBgn0032276',\n",
       " 'FBgn0032679',\n",
       " 'FBgn0032906',\n",
       " 'FBgn0032915',\n",
       " 'FBgn0033059',\n",
       " 'FBgn0033359',\n",
       " 'FBgn0033465',\n",
       " 'FBgn0033981',\n",
       " 'FBgn0034496',\n",
       " 'FBgn0034967',\n",
       " 'FBgn0035707',\n",
       " 'FBgn0035987',\n",
       " 'FBgn0036169',\n",
       " 'FBgn0036660',\n",
       " 'FBgn0037010',\n",
       " 'FBgn0037417',\n",
       " 'FBgn0037636',\n",
       " 'FBgn0038035',\n",
       " 'FBgn0038052',\n",
       " 'FBgn0038220',\n",
       " 'FBgn0038341',\n",
       " 'FBgn0038893',\n",
       " 'FBgn0039177',\n",
       " 'FBgn0039255',\n",
       " 'FBgn0039632',\n",
       " 'FBgn0039959',\n",
       " 'FBgn0040001',\n",
       " 'FBgn0040813',\n",
       " 'FBgn0042174',\n",
       " 'FBgn0050007',\n",
       " 'FBgn0050118',\n",
       " 'FBgn0050456',\n",
       " 'FBgn0050497',\n",
       " 'FBgn0051320',\n",
       " 'FBgn0051728',\n",
       " 'FBgn0058178',\n",
       " 'FBgn0082953',\n",
       " 'FBgn0082990',\n",
       " 'FBgn0082993',\n",
       " 'FBgn0086026',\n",
       " 'FBgn0086029',\n",
       " 'FBgn0086031',\n",
       " 'FBgn0086032',\n",
       " 'FBgn0086036',\n",
       " 'FBgn0086037',\n",
       " 'FBgn0086038',\n",
       " 'FBgn0086043',\n",
       " 'FBgn0086044',\n",
       " 'FBgn0086045',\n",
       " 'FBgn0086046',\n",
       " 'FBgn0086052',\n",
       " 'FBgn0086058',\n",
       " 'FBgn0086060',\n",
       " 'FBgn0086077',\n",
       " 'FBgn0086080',\n",
       " 'FBgn0086081',\n",
       " 'FBgn0086082',\n",
       " 'FBgn0086901',\n",
       " 'FBgn0250876',\n",
       " 'FBgn0259234',\n",
       " 'FBgn0259247',\n",
       " 'FBgn0259697',\n",
       " 'FBgn0259822',\n",
       " 'FBgn0260441',\n",
       " 'FBgn0261241',\n",
       " 'FBgn0261606',\n",
       " 'FBgn0261699',\n",
       " 'FBgn0262095',\n",
       " 'FBgn0262262',\n",
       " 'FBgn0262394',\n",
       " 'FBgn0262423',\n",
       " 'FBgn0262511',\n",
       " 'FBgn0262735',\n",
       " 'FBgn0262742',\n",
       " 'FBgn0262818',\n",
       " 'FBgn0263039',\n",
       " 'FBgn0263118',\n",
       " 'FBgn0265434',\n",
       " 'FBgn0265988',\n",
       " 'FBgn0266421',\n",
       " 'FBgn0266526',\n",
       " 'FBgn0267040',\n",
       " 'FBgn0267117',\n",
       " 'FBgn0267727',\n",
       " 'FBgn0267911',\n",
       " 'FBgn0283462'}"
      ]
     },
     "execution_count": 15,
     "metadata": {},
     "output_type": "execute_result"
    }
   ],
   "execution_count": 15
  },
  {
   "metadata": {
    "ExecuteTime": {
     "end_time": "2025-09-24T15:22:14.127311Z",
     "start_time": "2025-09-24T15:22:14.120980Z"
    }
   },
   "cell_type": "code",
   "source": "gtf_file",
   "outputs": [
    {
     "data": {
      "text/plain": [
       "shape: (567_804, 20)\n",
       "┌────────────┬─────────┬────────────┬──────────┬───┬───────────┬───────────┬───────────┬───────────┐\n",
       "│ seqname    ┆ source  ┆ feature    ┆ start    ┆ … ┆ exon_numb ┆ exon_id   ┆ transcrip ┆ protein_i │\n",
       "│ ---        ┆ ---     ┆ ---        ┆ ---      ┆   ┆ er        ┆ ---       ┆ t_name    ┆ d         │\n",
       "│ cat        ┆ cat     ┆ cat        ┆ i64      ┆   ┆ ---       ┆ str       ┆ ---       ┆ ---       │\n",
       "│            ┆         ┆            ┆          ┆   ┆ str       ┆           ┆ str       ┆ str       │\n",
       "╞════════════╪═════════╪════════════╪══════════╪═══╪═══════════╪═══════════╪═══════════╪═══════════╡\n",
       "│ 3R         ┆ FlyBase ┆ gene       ┆ 10964778 ┆ … ┆           ┆           ┆           ┆           │\n",
       "│ 3R         ┆ FlyBase ┆ transcript ┆ 10964778 ┆ … ┆           ┆           ┆           ┆           │\n",
       "│ 3R         ┆ FlyBase ┆ exon       ┆ 10964778 ┆ … ┆ 1         ┆ FBti00609 ┆           ┆           │\n",
       "│            ┆         ┆            ┆          ┆   ┆           ┆ 11-RA-E1  ┆           ┆           │\n",
       "│ 3R         ┆ FlyBase ┆ gene       ┆ 13944654 ┆ … ┆           ┆           ┆           ┆           │\n",
       "│ 3R         ┆ FlyBase ┆ transcript ┆ 13944654 ┆ … ┆           ┆           ┆ Art6-RA   ┆           │\n",
       "│ …          ┆ …       ┆ …          ┆ …        ┆ … ┆ …         ┆ …         ┆ …         ┆ …         │\n",
       "│ 2110000222 ┆ FlyBase ┆ transcript ┆ 14       ┆ … ┆           ┆           ┆ Su(Ste):C ┆           │\n",
       "│ 79165      ┆         ┆            ┆          ┆   ┆           ┆           ┆ R42439-RA ┆           │\n",
       "│ 2110000222 ┆ FlyBase ┆ exon       ┆ 14       ┆ … ┆ 1         ┆ FBtr03001 ┆ Su(Ste):C ┆           │\n",
       "│ 79165      ┆         ┆            ┆          ┆   ┆           ┆ 67-E1     ┆ R42439-RA ┆           │\n",
       "│ 2110000222 ┆ FlyBase ┆ gene       ┆ 180      ┆ … ┆           ┆           ┆           ┆           │\n",
       "│ 79264      ┆         ┆            ┆          ┆   ┆           ┆           ┆           ┆           │\n",
       "│ 2110000222 ┆ FlyBase ┆ transcript ┆ 180      ┆ … ┆           ┆           ┆ lncRNA:CR ┆           │\n",
       "│ 79264      ┆         ┆            ┆          ┆   ┆           ┆           ┆ 40719-RB  ┆           │\n",
       "│ 2110000222 ┆ FlyBase ┆ exon       ┆ 180      ┆ … ┆ 1         ┆ FBtr03041 ┆ lncRNA:CR ┆           │\n",
       "│ 79264      ┆         ┆            ┆          ┆   ┆           ┆ 47-E1     ┆ 40719-RB  ┆           │\n",
       "└────────────┴─────────┴────────────┴──────────┴───┴───────────┴───────────┴───────────┴───────────┘"
      ],
      "text/html": [
       "<div><style>\n",
       ".dataframe > thead > tr,\n",
       ".dataframe > tbody > tr {\n",
       "  text-align: right;\n",
       "  white-space: pre-wrap;\n",
       "}\n",
       "</style>\n",
       "<small>shape: (567_804, 20)</small><table border=\"1\" class=\"dataframe\"><thead><tr><th>seqname</th><th>source</th><th>feature</th><th>start</th><th>end</th><th>score</th><th>strand</th><th>frame</th><th>gene_id</th><th>gene_name</th><th>gene_source</th><th>gene_biotype</th><th>transcript_id</th><th>transcript_source</th><th>transcript_biotype</th><th>tag</th><th>exon_number</th><th>exon_id</th><th>transcript_name</th><th>protein_id</th></tr><tr><td>cat</td><td>cat</td><td>cat</td><td>i64</td><td>i64</td><td>f32</td><td>cat</td><td>i64</td><td>str</td><td>str</td><td>str</td><td>str</td><td>str</td><td>str</td><td>str</td><td>str</td><td>str</td><td>str</td><td>str</td><td>str</td></tr></thead><tbody><tr><td>&quot;3R&quot;</td><td>&quot;FlyBase&quot;</td><td>&quot;gene&quot;</td><td>10964778</td><td>10964818</td><td>null</td><td>&quot;+&quot;</td><td>0</td><td>&quot;FBti0060911&quot;</td><td>&quot;transib2{}2850&quot;</td><td>&quot;FlyBase&quot;</td><td>&quot;transposable_element&quot;</td><td>&quot;&quot;</td><td>&quot;&quot;</td><td>&quot;&quot;</td><td>&quot;&quot;</td><td>&quot;&quot;</td><td>&quot;&quot;</td><td>&quot;&quot;</td><td>&quot;&quot;</td></tr><tr><td>&quot;3R&quot;</td><td>&quot;FlyBase&quot;</td><td>&quot;transcript&quot;</td><td>10964778</td><td>10964818</td><td>null</td><td>&quot;+&quot;</td><td>0</td><td>&quot;FBti0060911&quot;</td><td>&quot;transib2{}2850&quot;</td><td>&quot;FlyBase&quot;</td><td>&quot;transposable_element&quot;</td><td>&quot;FBti0060911-RA&quot;</td><td>&quot;FlyBase&quot;</td><td>&quot;transposable_element&quot;</td><td>&quot;Ensembl_canonical&quot;</td><td>&quot;&quot;</td><td>&quot;&quot;</td><td>&quot;&quot;</td><td>&quot;&quot;</td></tr><tr><td>&quot;3R&quot;</td><td>&quot;FlyBase&quot;</td><td>&quot;exon&quot;</td><td>10964778</td><td>10964818</td><td>null</td><td>&quot;+&quot;</td><td>0</td><td>&quot;FBti0060911&quot;</td><td>&quot;transib2{}2850&quot;</td><td>&quot;FlyBase&quot;</td><td>&quot;transposable_element&quot;</td><td>&quot;FBti0060911-RA&quot;</td><td>&quot;FlyBase&quot;</td><td>&quot;transposable_element&quot;</td><td>&quot;Ensembl_canonical&quot;</td><td>&quot;1&quot;</td><td>&quot;FBti0060911-RA-E1&quot;</td><td>&quot;&quot;</td><td>&quot;&quot;</td></tr><tr><td>&quot;3R&quot;</td><td>&quot;FlyBase&quot;</td><td>&quot;gene&quot;</td><td>13944654</td><td>13945812</td><td>null</td><td>&quot;-&quot;</td><td>0</td><td>&quot;FBgn0038189&quot;</td><td>&quot;Art6&quot;</td><td>&quot;FlyBase&quot;</td><td>&quot;protein_coding&quot;</td><td>&quot;&quot;</td><td>&quot;&quot;</td><td>&quot;&quot;</td><td>&quot;&quot;</td><td>&quot;&quot;</td><td>&quot;&quot;</td><td>&quot;&quot;</td><td>&quot;&quot;</td></tr><tr><td>&quot;3R&quot;</td><td>&quot;FlyBase&quot;</td><td>&quot;transcript&quot;</td><td>13944654</td><td>13945812</td><td>null</td><td>&quot;-&quot;</td><td>0</td><td>&quot;FBgn0038189&quot;</td><td>&quot;Art6&quot;</td><td>&quot;FlyBase&quot;</td><td>&quot;protein_coding&quot;</td><td>&quot;FBtr0082878&quot;</td><td>&quot;FlyBase&quot;</td><td>&quot;protein_coding&quot;</td><td>&quot;Ensembl_canonical&quot;</td><td>&quot;&quot;</td><td>&quot;&quot;</td><td>&quot;Art6-RA&quot;</td><td>&quot;&quot;</td></tr><tr><td>&hellip;</td><td>&hellip;</td><td>&hellip;</td><td>&hellip;</td><td>&hellip;</td><td>&hellip;</td><td>&hellip;</td><td>&hellip;</td><td>&hellip;</td><td>&hellip;</td><td>&hellip;</td><td>&hellip;</td><td>&hellip;</td><td>&hellip;</td><td>&hellip;</td><td>&hellip;</td><td>&hellip;</td><td>&hellip;</td><td>&hellip;</td><td>&hellip;</td></tr><tr><td>&quot;211000022279165&quot;</td><td>&quot;FlyBase&quot;</td><td>&quot;transcript&quot;</td><td>14</td><td>1118</td><td>null</td><td>&quot;-&quot;</td><td>0</td><td>&quot;FBgn0259870&quot;</td><td>&quot;Su(Ste):CR42439&quot;</td><td>&quot;FlyBase&quot;</td><td>&quot;ncRNA&quot;</td><td>&quot;FBtr0300167&quot;</td><td>&quot;FlyBase&quot;</td><td>&quot;ncRNA&quot;</td><td>&quot;Ensembl_canonical&quot;</td><td>&quot;&quot;</td><td>&quot;&quot;</td><td>&quot;Su(Ste):CR42439-RA&quot;</td><td>&quot;&quot;</td></tr><tr><td>&quot;211000022279165&quot;</td><td>&quot;FlyBase&quot;</td><td>&quot;exon&quot;</td><td>14</td><td>1118</td><td>null</td><td>&quot;-&quot;</td><td>0</td><td>&quot;FBgn0259870&quot;</td><td>&quot;Su(Ste):CR42439&quot;</td><td>&quot;FlyBase&quot;</td><td>&quot;ncRNA&quot;</td><td>&quot;FBtr0300167&quot;</td><td>&quot;FlyBase&quot;</td><td>&quot;ncRNA&quot;</td><td>&quot;Ensembl_canonical&quot;</td><td>&quot;1&quot;</td><td>&quot;FBtr0300167-E1&quot;</td><td>&quot;Su(Ste):CR42439-RA&quot;</td><td>&quot;&quot;</td></tr><tr><td>&quot;211000022279264&quot;</td><td>&quot;FlyBase&quot;</td><td>&quot;gene&quot;</td><td>180</td><td>614</td><td>null</td><td>&quot;-&quot;</td><td>0</td><td>&quot;FBgn0085511&quot;</td><td>&quot;lncRNA:CR40719&quot;</td><td>&quot;FlyBase&quot;</td><td>&quot;ncRNA&quot;</td><td>&quot;&quot;</td><td>&quot;&quot;</td><td>&quot;&quot;</td><td>&quot;&quot;</td><td>&quot;&quot;</td><td>&quot;&quot;</td><td>&quot;&quot;</td><td>&quot;&quot;</td></tr><tr><td>&quot;211000022279264&quot;</td><td>&quot;FlyBase&quot;</td><td>&quot;transcript&quot;</td><td>180</td><td>614</td><td>null</td><td>&quot;-&quot;</td><td>0</td><td>&quot;FBgn0085511&quot;</td><td>&quot;lncRNA:CR40719&quot;</td><td>&quot;FlyBase&quot;</td><td>&quot;ncRNA&quot;</td><td>&quot;FBtr0304147&quot;</td><td>&quot;FlyBase&quot;</td><td>&quot;ncRNA&quot;</td><td>&quot;Ensembl_canonical&quot;</td><td>&quot;&quot;</td><td>&quot;&quot;</td><td>&quot;lncRNA:CR40719-RB&quot;</td><td>&quot;&quot;</td></tr><tr><td>&quot;211000022279264&quot;</td><td>&quot;FlyBase&quot;</td><td>&quot;exon&quot;</td><td>180</td><td>614</td><td>null</td><td>&quot;-&quot;</td><td>0</td><td>&quot;FBgn0085511&quot;</td><td>&quot;lncRNA:CR40719&quot;</td><td>&quot;FlyBase&quot;</td><td>&quot;ncRNA&quot;</td><td>&quot;FBtr0304147&quot;</td><td>&quot;FlyBase&quot;</td><td>&quot;ncRNA&quot;</td><td>&quot;Ensembl_canonical&quot;</td><td>&quot;1&quot;</td><td>&quot;FBtr0304147-E1&quot;</td><td>&quot;lncRNA:CR40719-RB&quot;</td><td>&quot;&quot;</td></tr></tbody></table></div>"
      ]
     },
     "execution_count": 16,
     "metadata": {},
     "output_type": "execute_result"
    }
   ],
   "execution_count": 16
  },
  {
   "metadata": {
    "ExecuteTime": {
     "end_time": "2025-09-24T15:22:14.179566Z",
     "start_time": "2025-09-24T15:22:14.175102Z"
    }
   },
   "cell_type": "code",
   "source": [
    "unmapped_feature_mapping = gtf_file.filter(pl.col(\"gene_id\").is_in(unmapped_genes))\n",
    "unmapped_feature_mapping\n",
    "\n",
    "# Unmapped genes do not map to anything, but added to the final genes.csv"
   ],
   "outputs": [
    {
     "data": {
      "text/plain": [
       "shape: (0, 20)\n",
       "┌─────────┬────────┬─────────┬───────┬───┬─────────────┬─────────┬─────────────────┬────────────┐\n",
       "│ seqname ┆ source ┆ feature ┆ start ┆ … ┆ exon_number ┆ exon_id ┆ transcript_name ┆ protein_id │\n",
       "│ ---     ┆ ---    ┆ ---     ┆ ---   ┆   ┆ ---         ┆ ---     ┆ ---             ┆ ---        │\n",
       "│ cat     ┆ cat    ┆ cat     ┆ i64   ┆   ┆ str         ┆ str     ┆ str             ┆ str        │\n",
       "╞═════════╪════════╪═════════╪═══════╪═══╪═════════════╪═════════╪═════════════════╪════════════╡\n",
       "└─────────┴────────┴─────────┴───────┴───┴─────────────┴─────────┴─────────────────┴────────────┘"
      ],
      "text/html": [
       "<div><style>\n",
       ".dataframe > thead > tr,\n",
       ".dataframe > tbody > tr {\n",
       "  text-align: right;\n",
       "  white-space: pre-wrap;\n",
       "}\n",
       "</style>\n",
       "<small>shape: (0, 20)</small><table border=\"1\" class=\"dataframe\"><thead><tr><th>seqname</th><th>source</th><th>feature</th><th>start</th><th>end</th><th>score</th><th>strand</th><th>frame</th><th>gene_id</th><th>gene_name</th><th>gene_source</th><th>gene_biotype</th><th>transcript_id</th><th>transcript_source</th><th>transcript_biotype</th><th>tag</th><th>exon_number</th><th>exon_id</th><th>transcript_name</th><th>protein_id</th></tr><tr><td>cat</td><td>cat</td><td>cat</td><td>i64</td><td>i64</td><td>f32</td><td>cat</td><td>i64</td><td>str</td><td>str</td><td>str</td><td>str</td><td>str</td><td>str</td><td>str</td><td>str</td><td>str</td><td>str</td><td>str</td><td>str</td></tr></thead><tbody></tbody></table></div>"
      ]
     },
     "execution_count": 17,
     "metadata": {},
     "output_type": "execute_result"
    }
   ],
   "execution_count": 17
  },
  {
   "metadata": {
    "ExecuteTime": {
     "end_time": "2025-09-24T15:22:14.230105Z",
     "start_time": "2025-09-24T15:22:14.224729Z"
    }
   },
   "cell_type": "code",
   "source": [
    "unmapped_genes = pd.DataFrame(unmapped_genes,columns=['gene_id']).rename(columns={'gene_id':'GeneID'})\n",
    "genes = pd.concat([result_df,unmapped_genes])\n",
    "print(len(unique_genes),len(genes))"
   ],
   "outputs": [
    {
     "name": "stdout",
     "output_type": "stream",
     "text": [
      "10411 10412\n"
     ]
    }
   ],
   "execution_count": 18
  },
  {
   "metadata": {
    "ExecuteTime": {
     "end_time": "2025-09-24T15:22:14.305517Z",
     "start_time": "2025-09-24T15:22:14.286997Z"
    }
   },
   "cell_type": "code",
   "source": "genes.to_csv('processed_data/genes.csv', index = False)",
   "outputs": [],
   "execution_count": 19
  },
  {
   "metadata": {},
   "cell_type": "markdown",
   "source": "### flybase gtf"
  },
  {
   "metadata": {
    "ExecuteTime": {
     "end_time": "2025-09-24T15:22:14.324643Z",
     "start_time": "2025-09-24T15:22:14.322757Z"
    }
   },
   "cell_type": "code",
   "source": [
    "'''# Read gtf file\n",
    "gtf_file = read_gtf('base_data/dmel-all-r6.64.gtf')\n",
    "print(gtf_file.shape)\n",
    "gtf_file.head()'''"
   ],
   "outputs": [
    {
     "data": {
      "text/plain": [
       "\"# Read gtf file\\ngtf_file = read_gtf('base_data/dmel-all-r6.64.gtf')\\nprint(gtf_file.shape)\\ngtf_file.head()\""
      ]
     },
     "execution_count": 20,
     "metadata": {},
     "output_type": "execute_result"
    }
   ],
   "execution_count": 20
  },
  {
   "metadata": {
    "ExecuteTime": {
     "end_time": "2025-09-24T15:22:14.354210Z",
     "start_time": "2025-09-24T15:22:14.350954Z"
    }
   },
   "cell_type": "code",
   "source": [
    "'''gtf_genes = gtf_file.filter(pl.col(\"feature\") == \"gene\")\n",
    "gtf_genes.head(n = 10)'''"
   ],
   "outputs": [
    {
     "data": {
      "text/plain": [
       "'gtf_genes = gtf_file.filter(pl.col(\"feature\") == \"gene\")\\ngtf_genes.head(n = 10)'"
      ]
     },
     "execution_count": 21,
     "metadata": {},
     "output_type": "execute_result"
    }
   ],
   "execution_count": 21
  },
  {
   "metadata": {
    "ExecuteTime": {
     "end_time": "2025-09-24T15:22:14.383128Z",
     "start_time": "2025-09-24T15:22:14.378679Z"
    }
   },
   "cell_type": "code",
   "source": "'''filtered_genes = gtf_genes.filter(pl.col(\"gene_id\").is_in(unique_genes))'''",
   "outputs": [
    {
     "data": {
      "text/plain": [
       "'filtered_genes = gtf_genes.filter(pl.col(\"gene_id\").is_in(unique_genes))'"
      ]
     },
     "execution_count": 22,
     "metadata": {},
     "output_type": "execute_result"
    }
   ],
   "execution_count": 22
  },
  {
   "metadata": {
    "ExecuteTime": {
     "end_time": "2025-09-24T15:22:14.410319Z",
     "start_time": "2025-09-24T15:22:14.406286Z"
    }
   },
   "cell_type": "code",
   "source": [
    "'''result_df = pd.merge(\n",
    "    filtered_genes[['gene_id','seqname','start','end','gene_symbol']].to_pandas(),\n",
    "    gene_df[['gene_id','Immune Process', 'Time_cluster']],\n",
    "    on='gene_id',\n",
    "    how='left'\n",
    ")\n",
    "result_df.columns = ['GeneID','Chromosome', 'Start', 'End', 'GeneName','Immune Process','Time_cluster']\n",
    "result_df.drop_duplicates(ignore_index = True,inplace = True)\n",
    "result_df.reset_index(drop=True, inplace=True)\n",
    "result_df\n",
    "'''"
   ],
   "outputs": [
    {
     "data": {
      "text/plain": [
       "\"result_df = pd.merge(\\n    filtered_genes[['gene_id','seqname','start','end','gene_symbol']].to_pandas(),\\n    gene_df[['gene_id','Immune Process', 'Time_cluster']],\\n    on='gene_id',\\n    how='left'\\n)\\nresult_df.columns = ['GeneID','Chromosome', 'Start', 'End', 'GeneName','Immune Process','Time_cluster']\\nresult_df.drop_duplicates(ignore_index = True,inplace = True)\\nresult_df.reset_index(drop=True, inplace=True)\\nresult_df\\n\""
      ]
     },
     "execution_count": 23,
     "metadata": {},
     "output_type": "execute_result"
    }
   ],
   "execution_count": 23
  },
  {
   "metadata": {
    "ExecuteTime": {
     "end_time": "2025-09-24T15:22:14.434980Z",
     "start_time": "2025-09-24T15:22:14.432419Z"
    }
   },
   "cell_type": "code",
   "source": "'''result_df.to_csv('genes.csv', index = False)'''",
   "outputs": [
    {
     "data": {
      "text/plain": [
       "\"result_df.to_csv('genes.csv', index = False)\""
      ]
     },
     "execution_count": 24,
     "metadata": {},
     "output_type": "execute_result"
    }
   ],
   "execution_count": 24
  },
  {
   "metadata": {
    "ExecuteTime": {
     "end_time": "2025-09-24T15:22:14.463789Z",
     "start_time": "2025-09-24T15:22:14.460160Z"
    }
   },
   "cell_type": "code",
   "source": [
    "'''# Convert unique genes list to a set\n",
    "unique_genes_set = set(unique_genes)\n",
    "\n",
    "# Convert filtered gene_ids (Polars) to a set\n",
    "filtered_gene_ids_set = set(filtered_genes[\"gene_id\"].to_list())\n",
    "\n",
    "# Find unmapped genes\n",
    "unmapped_genes = unique_genes_set - filtered_gene_ids_set\n",
    "\n",
    "print(f\"Number of unmapped genes: {len(unmapped_genes)}\")\n",
    "unmapped_genes\n",
    "\n",
    "# Unmapped genes were 140 (ensembl had 129 unmapped genes)\n",
    "Hence, ensembl is the better ref database here'''"
   ],
   "outputs": [
    {
     "data": {
      "text/plain": [
       "'# Convert unique genes list to a set\\nunique_genes_set = set(unique_genes)\\n\\n# Convert filtered gene_ids (Polars) to a set\\nfiltered_gene_ids_set = set(filtered_genes[\"gene_id\"].to_list())\\n\\n# Find unmapped genes\\nunmapped_genes = unique_genes_set - filtered_gene_ids_set\\n\\nprint(f\"Number of unmapped genes: {len(unmapped_genes)}\")\\nunmapped_genes\\n\\n# Unmapped genes were 140 (ensembl had 129 unmapped genes)\\nHence, ensembl is the better ref database here'"
      ]
     },
     "execution_count": 25,
     "metadata": {},
     "output_type": "execute_result"
    }
   ],
   "execution_count": 25
  },
  {
   "metadata": {},
   "cell_type": "markdown",
   "source": "# Associations Table"
  },
  {
   "metadata": {
    "ExecuteTime": {
     "end_time": "2025-09-24T15:22:14.489698Z",
     "start_time": "2025-09-24T15:22:14.487668Z"
    }
   },
   "cell_type": "code",
   "source": [
    "print(combined_df.columns)\n",
    "print(all_df.columns)"
   ],
   "outputs": [
    {
     "name": "stdout",
     "output_type": "stream",
     "text": [
      "Index(['Enhancer', 'Genes', 'Cells_20EvsCTRL.table.logFC',\n",
      "       'coSTARR LogFC 20EvsControl', 'Immune Process', 'Time_cluster',\n",
      "       'Treatment', 'Control_ave', '2021 LogFC IMDvsCTRL',\n",
      "       'coSTARR LogFC HKSMvs20E', 'Chromosome', 'Start', 'End', 'Length'],\n",
      "      dtype='object')\n",
      "Index(['Enhancer', 'Genes', '2021 LogFC IMDvsCTRL', 'coSTARR LogFC HKSMvs20E',\n",
      "       'Immune Process', 'Time_cluster', 'new_act_score', 'Length',\n",
      "       'FlybaseID Lem_function', 'Type_function', 'FlybaseID Lem_subtype',\n",
      "       'subtype', 'crp_3', 'EcR_usp_3', 'Eip74EF_3', 'gcm_3', 'Hnf4_3',\n",
      "       'kay_Jra_3', 'Rel_3', 'slp2_fork_3', 'SREBP_3', 'srp_SANGER_3', 'Trl_3',\n",
      "       'XBP1_3', 'xrp1_3', 'TBS_10-3', 'Treatment', 'FB_Gene', 'Control_ave',\n",
      "       'Cells_20EvsCTRL.table.logFC', 'coSTARR LogFC 20EvsControl',\n",
      "       'HKSM_ATAC', 'Con_ATAC', 'Accessibility', 'TF_counts'],\n",
      "      dtype='object')\n"
     ]
    }
   ],
   "execution_count": 26
  },
  {
   "metadata": {
    "ExecuteTime": {
     "end_time": "2025-09-24T15:22:14.512588Z",
     "start_time": "2025-09-24T15:22:14.510124Z"
    }
   },
   "cell_type": "code",
   "source": "combined_df.shape",
   "outputs": [
    {
     "data": {
      "text/plain": [
       "(39130, 14)"
      ]
     },
     "execution_count": 27,
     "metadata": {},
     "output_type": "execute_result"
    }
   ],
   "execution_count": 27
  },
  {
   "metadata": {
    "ExecuteTime": {
     "end_time": "2025-09-24T15:22:14.547866Z",
     "start_time": "2025-09-24T15:22:14.533757Z"
    }
   },
   "cell_type": "code",
   "source": [
    "''' # FROM PREVIOUS CODE\n",
    "# USED AS REFERENCE\n",
    "asc_df = all_df[['Enhancer','Genes','2021 LogFC IMDvsCTRL','Cells_20EvsCTRL.table.logFC','coSTARR LogFC HKSMvs20E','coSTARR LogFC 20EvsControl', 'Origin','Activity_score']]'''\n",
    "\n",
    "asc_df = all_df[['Enhancer', 'Genes', '2021 LogFC IMDvsCTRL','coSTARR LogFC HKSMvs20E','coSTARR LogFC 20EvsControl', 'Treatment', 'new_act_score' ]]\n",
    "asc_df = pd.merge(combined_df[['Enhancer', 'Genes', '2021 LogFC IMDvsCTRL','coSTARR LogFC HKSMvs20E','coSTARR LogFC 20EvsControl', 'Treatment']],all_df[['Enhancer','Treatment','new_act_score']], on = ['Enhancer','Treatment'], how = 'left')\n",
    "asc_df"
   ],
   "outputs": [
    {
     "data": {
      "text/plain": [
       "                   Enhancer        Genes  2021 LogFC IMDvsCTRL  \\\n",
       "0      2R:16125955-16128021  FBgn0034075                   NaN   \n",
       "1      2R:16125955-16128021  FBgn0034076                   NaN   \n",
       "2      2R:16125955-16128021  FBgn0010052                   NaN   \n",
       "3      2R:16125955-16128021  FBgn0050095                   NaN   \n",
       "4      2R:16125955-16128021  FBgn0001124                   NaN   \n",
       "...                     ...          ...                   ...   \n",
       "39125         Y:49440-50073  FBgn0267432                   NaN   \n",
       "39126         Y:62528-63265  FBgn0001313                   NaN   \n",
       "39127       Y:674601-675291          NaN                   NaN   \n",
       "39128       Y:822007-822926          NaN                   NaN   \n",
       "39129       Y:900825-901413          NaN                   NaN   \n",
       "\n",
       "       coSTARR LogFC HKSMvs20E  coSTARR LogFC 20EvsControl Treatment  \\\n",
       "0                          NaN                   -0.065139       20E   \n",
       "1                          NaN                         NaN       20E   \n",
       "2                          NaN                   -3.331694       20E   \n",
       "3                          NaN                         NaN       20E   \n",
       "4                          NaN                   -0.816459       20E   \n",
       "...                        ...                         ...       ...   \n",
       "39125                      NaN                         NaN       IMD   \n",
       "39126                      NaN                         NaN       IMD   \n",
       "39127                      NaN                         NaN       IMD   \n",
       "39128                      NaN                         NaN       IMD   \n",
       "39129                      NaN                         NaN       IMD   \n",
       "\n",
       "       new_act_score  \n",
       "0            1344.89  \n",
       "1            1344.89  \n",
       "2            1344.89  \n",
       "3            1344.89  \n",
       "4            1344.89  \n",
       "...              ...  \n",
       "39125            NaN  \n",
       "39126            NaN  \n",
       "39127            NaN  \n",
       "39128            NaN  \n",
       "39129            NaN  \n",
       "\n",
       "[39130 rows x 7 columns]"
      ],
      "text/html": [
       "<div>\n",
       "<style scoped>\n",
       "    .dataframe tbody tr th:only-of-type {\n",
       "        vertical-align: middle;\n",
       "    }\n",
       "\n",
       "    .dataframe tbody tr th {\n",
       "        vertical-align: top;\n",
       "    }\n",
       "\n",
       "    .dataframe thead th {\n",
       "        text-align: right;\n",
       "    }\n",
       "</style>\n",
       "<table border=\"1\" class=\"dataframe\">\n",
       "  <thead>\n",
       "    <tr style=\"text-align: right;\">\n",
       "      <th></th>\n",
       "      <th>Enhancer</th>\n",
       "      <th>Genes</th>\n",
       "      <th>2021 LogFC IMDvsCTRL</th>\n",
       "      <th>coSTARR LogFC HKSMvs20E</th>\n",
       "      <th>coSTARR LogFC 20EvsControl</th>\n",
       "      <th>Treatment</th>\n",
       "      <th>new_act_score</th>\n",
       "    </tr>\n",
       "  </thead>\n",
       "  <tbody>\n",
       "    <tr>\n",
       "      <th>0</th>\n",
       "      <td>2R:16125955-16128021</td>\n",
       "      <td>FBgn0034075</td>\n",
       "      <td>NaN</td>\n",
       "      <td>NaN</td>\n",
       "      <td>-0.065139</td>\n",
       "      <td>20E</td>\n",
       "      <td>1344.89</td>\n",
       "    </tr>\n",
       "    <tr>\n",
       "      <th>1</th>\n",
       "      <td>2R:16125955-16128021</td>\n",
       "      <td>FBgn0034076</td>\n",
       "      <td>NaN</td>\n",
       "      <td>NaN</td>\n",
       "      <td>NaN</td>\n",
       "      <td>20E</td>\n",
       "      <td>1344.89</td>\n",
       "    </tr>\n",
       "    <tr>\n",
       "      <th>2</th>\n",
       "      <td>2R:16125955-16128021</td>\n",
       "      <td>FBgn0010052</td>\n",
       "      <td>NaN</td>\n",
       "      <td>NaN</td>\n",
       "      <td>-3.331694</td>\n",
       "      <td>20E</td>\n",
       "      <td>1344.89</td>\n",
       "    </tr>\n",
       "    <tr>\n",
       "      <th>3</th>\n",
       "      <td>2R:16125955-16128021</td>\n",
       "      <td>FBgn0050095</td>\n",
       "      <td>NaN</td>\n",
       "      <td>NaN</td>\n",
       "      <td>NaN</td>\n",
       "      <td>20E</td>\n",
       "      <td>1344.89</td>\n",
       "    </tr>\n",
       "    <tr>\n",
       "      <th>4</th>\n",
       "      <td>2R:16125955-16128021</td>\n",
       "      <td>FBgn0001124</td>\n",
       "      <td>NaN</td>\n",
       "      <td>NaN</td>\n",
       "      <td>-0.816459</td>\n",
       "      <td>20E</td>\n",
       "      <td>1344.89</td>\n",
       "    </tr>\n",
       "    <tr>\n",
       "      <th>...</th>\n",
       "      <td>...</td>\n",
       "      <td>...</td>\n",
       "      <td>...</td>\n",
       "      <td>...</td>\n",
       "      <td>...</td>\n",
       "      <td>...</td>\n",
       "      <td>...</td>\n",
       "    </tr>\n",
       "    <tr>\n",
       "      <th>39125</th>\n",
       "      <td>Y:49440-50073</td>\n",
       "      <td>FBgn0267432</td>\n",
       "      <td>NaN</td>\n",
       "      <td>NaN</td>\n",
       "      <td>NaN</td>\n",
       "      <td>IMD</td>\n",
       "      <td>NaN</td>\n",
       "    </tr>\n",
       "    <tr>\n",
       "      <th>39126</th>\n",
       "      <td>Y:62528-63265</td>\n",
       "      <td>FBgn0001313</td>\n",
       "      <td>NaN</td>\n",
       "      <td>NaN</td>\n",
       "      <td>NaN</td>\n",
       "      <td>IMD</td>\n",
       "      <td>NaN</td>\n",
       "    </tr>\n",
       "    <tr>\n",
       "      <th>39127</th>\n",
       "      <td>Y:674601-675291</td>\n",
       "      <td>NaN</td>\n",
       "      <td>NaN</td>\n",
       "      <td>NaN</td>\n",
       "      <td>NaN</td>\n",
       "      <td>IMD</td>\n",
       "      <td>NaN</td>\n",
       "    </tr>\n",
       "    <tr>\n",
       "      <th>39128</th>\n",
       "      <td>Y:822007-822926</td>\n",
       "      <td>NaN</td>\n",
       "      <td>NaN</td>\n",
       "      <td>NaN</td>\n",
       "      <td>NaN</td>\n",
       "      <td>IMD</td>\n",
       "      <td>NaN</td>\n",
       "    </tr>\n",
       "    <tr>\n",
       "      <th>39129</th>\n",
       "      <td>Y:900825-901413</td>\n",
       "      <td>NaN</td>\n",
       "      <td>NaN</td>\n",
       "      <td>NaN</td>\n",
       "      <td>NaN</td>\n",
       "      <td>IMD</td>\n",
       "      <td>NaN</td>\n",
       "    </tr>\n",
       "  </tbody>\n",
       "</table>\n",
       "<p>39130 rows × 7 columns</p>\n",
       "</div>"
      ]
     },
     "execution_count": 28,
     "metadata": {},
     "output_type": "execute_result"
    }
   ],
   "execution_count": 28
  },
  {
   "metadata": {
    "ExecuteTime": {
     "end_time": "2025-09-24T15:22:14.594117Z",
     "start_time": "2025-09-24T15:22:14.581483Z"
    }
   },
   "cell_type": "code",
   "source": [
    "asc_df[[]].notna()\n",
    "asc_df = asc_df[~asc_df[['Genes',\n",
    "                 '2021 LogFC IMDvsCTRL',\n",
    "                'coSTARR LogFC HKSMvs20E',\n",
    "                'coSTARR LogFC 20EvsControl']].isnull().all(axis=1)]\n",
    "asc_df"
   ],
   "outputs": [
    {
     "data": {
      "text/plain": [
       "                   Enhancer        Genes  2021 LogFC IMDvsCTRL  \\\n",
       "0      2R:16125955-16128021  FBgn0034075                   NaN   \n",
       "1      2R:16125955-16128021  FBgn0034076                   NaN   \n",
       "2      2R:16125955-16128021  FBgn0010052                   NaN   \n",
       "3      2R:16125955-16128021  FBgn0050095                   NaN   \n",
       "4      2R:16125955-16128021  FBgn0001124                   NaN   \n",
       "...                     ...          ...                   ...   \n",
       "39102         Y:14211-14771  FBgn0267433              1.133805   \n",
       "39104         Y:16815-17445  FBgn0267433              1.133805   \n",
       "39116       Y:283890-284788  FBgn0267449                   NaN   \n",
       "39125         Y:49440-50073  FBgn0267432                   NaN   \n",
       "39126         Y:62528-63265  FBgn0001313                   NaN   \n",
       "\n",
       "       coSTARR LogFC HKSMvs20E  coSTARR LogFC 20EvsControl Treatment  \\\n",
       "0                          NaN                   -0.065139       20E   \n",
       "1                          NaN                         NaN       20E   \n",
       "2                          NaN                   -3.331694       20E   \n",
       "3                          NaN                         NaN       20E   \n",
       "4                          NaN                   -0.816459       20E   \n",
       "...                        ...                         ...       ...   \n",
       "39102                      NaN                         NaN       IMD   \n",
       "39104                      NaN                         NaN       IMD   \n",
       "39116                      NaN                         NaN       IMD   \n",
       "39125                      NaN                         NaN       IMD   \n",
       "39126                      NaN                         NaN       IMD   \n",
       "\n",
       "       new_act_score  \n",
       "0            1344.89  \n",
       "1            1344.89  \n",
       "2            1344.89  \n",
       "3            1344.89  \n",
       "4            1344.89  \n",
       "...              ...  \n",
       "39102            NaN  \n",
       "39104            NaN  \n",
       "39116            NaN  \n",
       "39125            NaN  \n",
       "39126            NaN  \n",
       "\n",
       "[37255 rows x 7 columns]"
      ],
      "text/html": [
       "<div>\n",
       "<style scoped>\n",
       "    .dataframe tbody tr th:only-of-type {\n",
       "        vertical-align: middle;\n",
       "    }\n",
       "\n",
       "    .dataframe tbody tr th {\n",
       "        vertical-align: top;\n",
       "    }\n",
       "\n",
       "    .dataframe thead th {\n",
       "        text-align: right;\n",
       "    }\n",
       "</style>\n",
       "<table border=\"1\" class=\"dataframe\">\n",
       "  <thead>\n",
       "    <tr style=\"text-align: right;\">\n",
       "      <th></th>\n",
       "      <th>Enhancer</th>\n",
       "      <th>Genes</th>\n",
       "      <th>2021 LogFC IMDvsCTRL</th>\n",
       "      <th>coSTARR LogFC HKSMvs20E</th>\n",
       "      <th>coSTARR LogFC 20EvsControl</th>\n",
       "      <th>Treatment</th>\n",
       "      <th>new_act_score</th>\n",
       "    </tr>\n",
       "  </thead>\n",
       "  <tbody>\n",
       "    <tr>\n",
       "      <th>0</th>\n",
       "      <td>2R:16125955-16128021</td>\n",
       "      <td>FBgn0034075</td>\n",
       "      <td>NaN</td>\n",
       "      <td>NaN</td>\n",
       "      <td>-0.065139</td>\n",
       "      <td>20E</td>\n",
       "      <td>1344.89</td>\n",
       "    </tr>\n",
       "    <tr>\n",
       "      <th>1</th>\n",
       "      <td>2R:16125955-16128021</td>\n",
       "      <td>FBgn0034076</td>\n",
       "      <td>NaN</td>\n",
       "      <td>NaN</td>\n",
       "      <td>NaN</td>\n",
       "      <td>20E</td>\n",
       "      <td>1344.89</td>\n",
       "    </tr>\n",
       "    <tr>\n",
       "      <th>2</th>\n",
       "      <td>2R:16125955-16128021</td>\n",
       "      <td>FBgn0010052</td>\n",
       "      <td>NaN</td>\n",
       "      <td>NaN</td>\n",
       "      <td>-3.331694</td>\n",
       "      <td>20E</td>\n",
       "      <td>1344.89</td>\n",
       "    </tr>\n",
       "    <tr>\n",
       "      <th>3</th>\n",
       "      <td>2R:16125955-16128021</td>\n",
       "      <td>FBgn0050095</td>\n",
       "      <td>NaN</td>\n",
       "      <td>NaN</td>\n",
       "      <td>NaN</td>\n",
       "      <td>20E</td>\n",
       "      <td>1344.89</td>\n",
       "    </tr>\n",
       "    <tr>\n",
       "      <th>4</th>\n",
       "      <td>2R:16125955-16128021</td>\n",
       "      <td>FBgn0001124</td>\n",
       "      <td>NaN</td>\n",
       "      <td>NaN</td>\n",
       "      <td>-0.816459</td>\n",
       "      <td>20E</td>\n",
       "      <td>1344.89</td>\n",
       "    </tr>\n",
       "    <tr>\n",
       "      <th>...</th>\n",
       "      <td>...</td>\n",
       "      <td>...</td>\n",
       "      <td>...</td>\n",
       "      <td>...</td>\n",
       "      <td>...</td>\n",
       "      <td>...</td>\n",
       "      <td>...</td>\n",
       "    </tr>\n",
       "    <tr>\n",
       "      <th>39102</th>\n",
       "      <td>Y:14211-14771</td>\n",
       "      <td>FBgn0267433</td>\n",
       "      <td>1.133805</td>\n",
       "      <td>NaN</td>\n",
       "      <td>NaN</td>\n",
       "      <td>IMD</td>\n",
       "      <td>NaN</td>\n",
       "    </tr>\n",
       "    <tr>\n",
       "      <th>39104</th>\n",
       "      <td>Y:16815-17445</td>\n",
       "      <td>FBgn0267433</td>\n",
       "      <td>1.133805</td>\n",
       "      <td>NaN</td>\n",
       "      <td>NaN</td>\n",
       "      <td>IMD</td>\n",
       "      <td>NaN</td>\n",
       "    </tr>\n",
       "    <tr>\n",
       "      <th>39116</th>\n",
       "      <td>Y:283890-284788</td>\n",
       "      <td>FBgn0267449</td>\n",
       "      <td>NaN</td>\n",
       "      <td>NaN</td>\n",
       "      <td>NaN</td>\n",
       "      <td>IMD</td>\n",
       "      <td>NaN</td>\n",
       "    </tr>\n",
       "    <tr>\n",
       "      <th>39125</th>\n",
       "      <td>Y:49440-50073</td>\n",
       "      <td>FBgn0267432</td>\n",
       "      <td>NaN</td>\n",
       "      <td>NaN</td>\n",
       "      <td>NaN</td>\n",
       "      <td>IMD</td>\n",
       "      <td>NaN</td>\n",
       "    </tr>\n",
       "    <tr>\n",
       "      <th>39126</th>\n",
       "      <td>Y:62528-63265</td>\n",
       "      <td>FBgn0001313</td>\n",
       "      <td>NaN</td>\n",
       "      <td>NaN</td>\n",
       "      <td>NaN</td>\n",
       "      <td>IMD</td>\n",
       "      <td>NaN</td>\n",
       "    </tr>\n",
       "  </tbody>\n",
       "</table>\n",
       "<p>37255 rows × 7 columns</p>\n",
       "</div>"
      ]
     },
     "execution_count": 29,
     "metadata": {},
     "output_type": "execute_result"
    }
   ],
   "execution_count": 29
  },
  {
   "metadata": {
    "ExecuteTime": {
     "end_time": "2025-09-24T15:22:14.702819Z",
     "start_time": "2025-09-24T15:22:14.639474Z"
    }
   },
   "cell_type": "code",
   "source": [
    "asc_df.reset_index(drop = True, inplace = True)\n",
    "asc_df.drop_duplicates(ignore_index = True,inplace = True)\n",
    "asc_df.to_csv('processed_data/associations.csv', index = False)"
   ],
   "outputs": [
    {
     "name": "stderr",
     "output_type": "stream",
     "text": [
      "/var/folders/mh/p8rsw7z90bv6kv8r8qnf4tnr0000gn/T/ipykernel_33806/1246584258.py:2: SettingWithCopyWarning: \n",
      "A value is trying to be set on a copy of a slice from a DataFrame\n",
      "\n",
      "See the caveats in the documentation: https://pandas.pydata.org/pandas-docs/stable/user_guide/indexing.html#returning-a-view-versus-a-copy\n",
      "  asc_df.drop_duplicates(ignore_index = True,inplace = True)\n"
     ]
    }
   ],
   "execution_count": 30
  },
  {
   "metadata": {},
   "cell_type": "markdown",
   "source": "# TPM file"
  },
  {
   "metadata": {
    "ExecuteTime": {
     "end_time": "2025-09-24T15:22:14.750077Z",
     "start_time": "2025-09-24T15:22:14.748853Z"
    }
   },
   "cell_type": "code",
   "source": "",
   "outputs": [],
   "execution_count": null
  }
 ],
 "metadata": {
  "kernelspec": {
   "display_name": "Python 3",
   "language": "python",
   "name": "python3"
  },
  "language_info": {
   "codemirror_mode": {
    "name": "ipython",
    "version": 3
   },
   "file_extension": ".py",
   "mimetype": "text/x-python",
   "name": "python",
   "nbconvert_exporter": "python",
   "pygments_lexer": "ipython3",
   "version": "3.12.7"
  }
 },
 "nbformat": 4,
 "nbformat_minor": 2
}
